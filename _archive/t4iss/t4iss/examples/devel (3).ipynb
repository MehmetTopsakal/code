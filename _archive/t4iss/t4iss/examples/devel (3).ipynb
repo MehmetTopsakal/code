{
 "cells": [
  {
   "cell_type": "code",
   "execution_count": 1,
   "metadata": {
    "ExecuteTime": {
     "end_time": "2018-04-04T15:56:01.841838Z",
     "start_time": "2018-04-04T15:56:00.508890Z"
    }
   },
   "outputs": [
    {
     "name": "stdout",
     "output_type": "stream",
     "text": [
      "\n",
      "Imported t4iss with defaults:\n",
      "\n",
      "- t4iss_xanes_data : /home/mt/.t4iss/xanes_data\n",
      "- t4iss_scratch : /home/mt/.t4iss/scratch\n",
      "- mcr_path : /home/mt/Dropbox/t4iss/t4iss/mcr\n",
      "- scripts_path : /home/mt/Dropbox/t4iss/t4iss/scripts\n",
      "- octave_path : /usr/bin/octave\n",
      "- matlab_path : None\n"
     ]
    }
   ],
   "source": [
    "%reset -f \n",
    "%load_ext autoreload\n",
    "%autoreload 2\n",
    "%matplotlib notebook\n",
    "\n",
    "import t4iss\n",
    "from t4iss.core import *\n",
    "from t4iss.feff_utils import *\n",
    "from t4iss.exciting_utils import *\n",
    "from t4iss.ocean_utils import *\n",
    "from t4iss.mp_utils import *\n",
    "\n",
    "from pymatgen import MPRester\n",
    "mpr = MPRester('JCRhEVIMvKOrQ1ot') \n",
    "\n",
    "\n",
    "from pylab import *\n",
    "from matplotlib import gridspec\n",
    "from matplotlib import pyplot as plt\n",
    "\n",
    "from copy import deepcopy"
   ]
  },
  {
   "cell_type": "code",
   "execution_count": 2,
   "metadata": {
    "ExecuteTime": {
     "end_time": "2018-04-04T15:56:01.878956Z",
     "start_time": "2018-04-04T15:56:01.843662Z"
    },
    "code_folding": [
     0
    ]
   },
   "outputs": [],
   "source": [
    "# # FEFF icin\n",
    "# os.chdir('/home/mt/research/ACTIVE/t4iss/devel/t4iss/')\n",
    "\n",
    "# here = '/home/mt/research/ACTIVE/t4iss/devel/t4iss/'\n",
    "# dbroot = '/home/mt/_databases/t4iss/XANES'\n",
    "# clean_dbroot = '/home/mt/_databases/t4iss/XANES_tmp/'\n",
    "\n",
    "# os.chdir(dbroot)\n",
    "# folders = [f for f in os.listdir() if os.path.isdir(f)]\n",
    "# os.chdir(here)\n",
    "\n",
    "\n",
    "# absorption_specie = 'Zn'\n",
    "\n",
    "# # folders = ['mp-685013','mp-754850','mp-1013939','mp-531696']\n",
    "\n",
    "# for mpid in folders:\n",
    "    \n",
    "#     print(mpid)\n",
    "    \n",
    "#     os.chdir(dbroot)\n",
    "#     os.chdir(mpid)\n",
    "\n",
    "#     structure = mg.Structure.from_file(\"CONTCAR\")\n",
    "#     finder = SpacegroupAnalyzer(structure)\n",
    "#     structure = finder.get_symmetrized_structure()\n",
    "#     [sites, indices]  = structure.equivalent_sites, structure.equivalent_indices\n",
    "\n",
    "#     for i,s in enumerate(sites):\n",
    "#         if s[0].species_string is absorption_specie:        \n",
    "#             f = 'feff_{:03d}_{}'.format(indices[i][0]+1,absorption_specie)   \n",
    "            \n",
    "#             if os.path.isdir(f):\n",
    "            \n",
    "#                 os.chdir(f)        \n",
    "#                 if os.path.isfile('feff.inp'):\n",
    "#                     source = 'from_MehmetTopsakal'\n",
    "#                 else:\n",
    "#                     source = 'from_MP'            \n",
    "#                 if os.path.isfile('xanes.pkl'):\n",
    "#                     load = pickle.load(open('xanes.pkl', 'rb'))\n",
    "#                     data = [load.energy,load.intensity]\n",
    "#                     xanes = mXANES(data=data,structure=[structure,indices[i][0]],xanesid=mpid,source=source,edge='K',multiplicity=len(s))\n",
    "#                     os.makedirs(clean_dbroot+mpid,exist_ok=True)\n",
    "#                     shutil.copy('../CONTCAR',clean_dbroot+mpid)\n",
    "#                     os.makedirs(clean_dbroot+mpid+'/'+f+'-K',exist_ok=True)\n",
    "#                     pickle.dump(xanes, open(clean_dbroot+mpid+'/'+f+'-K/'+'xanes.pkl', 'wb'))\n",
    "#                     if source == 'from_MehmetTopsakal':\n",
    "#                         shutil.copy('feff.inp',clean_dbroot+mpid+'/'+f+'-K/') \n",
    "#                         if os.path.isfile('feff.out'):\n",
    "#                             shutil.copy('feff.out',clean_dbroot+mpid+'/'+f+'-K/') \n",
    "#                         shutil.copy('xmu.dat',clean_dbroot+mpid+'/'+f+'-K/')                         \n",
    "#                 elif os.path.isfile('xmu.dat'):\n",
    "#                     xanes = mXANES(data=feff_read_xmu(),structure=[structure,indices[i][0]],xanesid=mpid,source=source,edge='K',multiplicity=len(s))   \n",
    "#                     os.makedirs(clean_dbroot+mpid,exist_ok=True)\n",
    "#                     shutil.copy('../CONTCAR',clean_dbroot+mpid)                    \n",
    "#                     os.makedirs(clean_dbroot+mpid+'/'+f+'-K',exist_ok=True)\n",
    "#                     pickle.dump(xanes, open(clean_dbroot+mpid+'/'+f+'-K/'+'xanes.pkl', 'wb'))  \n",
    "#                     if source == 'from_MehmetTopsakal':\n",
    "#                         shutil.copy('feff.inp',clean_dbroot+mpid+'/'+f+'-K/') \n",
    "#                         shutil.copy('feff.out',clean_dbroot+mpid+'/'+f+'-K/') \n",
    "#                         shutil.copy('xmu.dat',clean_dbroot+mpid+'/'+f+'-K/') \n",
    "               \n",
    "#                 os.chdir('..')\n",
    "           \n",
    "#     os.chdir(here)"
   ]
  },
  {
   "cell_type": "code",
   "execution_count": 6,
   "metadata": {
    "ExecuteTime": {
     "end_time": "2018-04-04T16:06:39.861575Z",
     "start_time": "2018-04-04T16:06:39.223900Z"
    },
    "code_folding": []
   },
   "outputs": [
    {
     "name": "stdout",
     "output_type": "stream",
     "text": [
      "mp-390\n",
      "mp-554032\n",
      "mp-553432\n",
      "mp-554098\n",
      "mp-2664\n",
      "mp-1439\n",
      "mp-2591\n",
      "mp-25433\n",
      "mp-25262\n",
      "mp-458\n",
      "mp-1215\n",
      "mp-14142\n",
      "mp-2133\n",
      "mp-10734\n",
      "mp-34688\n",
      "mp-1203\n",
      "mp-542737\n",
      "mp-2657\n"
     ]
    }
   ],
   "source": [
    "# EXCITING icin\n",
    "\n",
    "here = '/home/mt/Dropbox/t4iss'\n",
    "dbroot = '/home/mt/_databases/t4iss/_others/EXCITING_data/new/'\n",
    "clean_dbroot = '/home/mt/_databases/t4iss/EXCITING_data/'\n",
    "\n",
    "os.chdir(dbroot)\n",
    "folders = [f for f in os.listdir() if os.path.isdir(f)]\n",
    "os.chdir(here)\n",
    "\n",
    "\n",
    "absorption_specie = 'Ti'\n",
    "\n",
    "for mpid in folders:\n",
    "    \n",
    "    print(mpid)\n",
    "    \n",
    "    os.chdir(dbroot)\n",
    "    os.chdir(mpid)\n",
    "\n",
    "    structure = mg.Structure.from_file(\"CONTCAR\")\n",
    "    finder = SpacegroupAnalyzer(structure)\n",
    "    structure = finder.get_symmetrized_structure()\n",
    "    [sites, indices]  = structure.equivalent_sites, structure.equivalent_indices\n",
    "\n",
    "    for i,s in enumerate(sites):\n",
    "        if s[0].species_string is absorption_specie:        \n",
    "            f = 'exciting_{:03d}_{}'.format(indices[i][0]+1,absorption_specie)   \n",
    "            f_new = 'exciting_{:03d}_{}-K'.format(indices[i][0]+1,absorption_specie) \n",
    "            \n",
    "            if os.path.isdir(f):\n",
    "            \n",
    "                os.chdir(f)        \n",
    "\n",
    "                source = 'from_MehmetTopsakal'\n",
    "                                \n",
    "                if os.path.isfile('epsilons.dat'):\n",
    "                                    \n",
    "                    xanes = mXANES(data=exciting_read_epsilons(),structure=[structure,indices[i][0]],xanesid=mpid,source=source,edge='K',multiplicity=len(s))   \n",
    "                    os.makedirs(clean_dbroot+mpid,exist_ok=True)\n",
    "                    shutil.copy('../CONTCAR',clean_dbroot+mpid)                    \n",
    "                    os.makedirs(clean_dbroot+mpid+'/'+f_new,exist_ok=True)\n",
    "                    pickle.dump(xanes, open(clean_dbroot+mpid+'/'+f_new+'/xanes.pkl', 'wb'))  \n",
    "                    shutil.copy('input.xml',clean_dbroot+mpid+'/'+f_new) \n",
    "                    shutil.copy('epsilons.dat',clean_dbroot+mpid+'/'+f_new) \n",
    "                    shutil.copy('INFOXS.OUT',clean_dbroot+mpid+'/'+f_new) \n",
    "                    shutil.copy('Eonset.dat',clean_dbroot+mpid+'/'+f_new) \n",
    "                    \n",
    "                os.chdir('..')\n",
    "           \n",
    "    os.chdir(here)"
   ]
  },
  {
   "cell_type": "code",
   "execution_count": 10,
   "metadata": {
    "ExecuteTime": {
     "end_time": "2018-04-04T14:57:27.961757Z",
     "start_time": "2018-04-04T14:57:27.898862Z"
    },
    "code_folding": []
   },
   "outputs": [],
   "source": [
    "# OCEAN icin\n",
    "\n",
    "\n",
    "# os.chdir('/home/mt/_databases/t4iss/OCEAN_data/new/')\n",
    "# folders = [f for f in os.listdir() if os.path.isdir(f)]\n",
    "\n",
    "# import mOCEAN\n",
    "\n",
    "# for i in folders:\n",
    "#     os.chdir(i)\n",
    "#     s = 1\n",
    "#     E, Itot, Iatom, Iall = mOCEAN.read_absspct()\n",
    "#     for a in Iatom:  \n",
    "#         out = np.column_stack( (E, a) )\n",
    "#         np.savetxt(str(s)+'.dat', out, fmt=\"%15.9f %15.9f\")\n",
    "#         s = s + 1\n",
    "#     os.chdir('..')\n",
    "\n",
    "\n",
    "\n",
    "\n",
    "# os.chdir('/home/mt/Dropbox/t4iss')\n",
    "\n",
    "# here = os.getcwd()\n",
    "# dbroot = '/home/mt/_databases/t4iss/OCEAN_data/new/'\n",
    "# clean_dbroot = '/home/mt/_databases/t4iss/OCEAN_data_clean/'\n",
    "\n",
    "# os.chdir(dbroot)\n",
    "# folders = [f for f in os.listdir() if os.path.isdir(f)]\n",
    "# os.chdir(here)\n",
    "\n",
    "\n",
    "# absorption_specie = 'Ti'\n",
    "\n",
    "\n",
    "# for mpid in folders:\n",
    "    \n",
    "#     print(mpid)\n",
    "    \n",
    "#     os.chdir(dbroot)\n",
    "#     os.chdir(mpid)\n",
    "\n",
    "#     structure = mg.Structure.from_file(\"CONTCAR\")\n",
    "#     finder = SpacegroupAnalyzer(structure)\n",
    "#     structure = finder.get_symmetrized_structure()\n",
    "#     [sites, indices]  = structure.equivalent_sites, structure.equivalent_indices\n",
    "#     print(indices)\n",
    "\n",
    "#     for i,s in enumerate(sites):\n",
    "#         if s[0].species_string is absorption_specie:        \n",
    "#             f = 'feff_{:03d}_{}-K'.format(indices[i][0]+1,absorption_specie)   \n",
    "#             f_new = 'ocean_{:03d}_{}-K'.format(indices[i][0]+1,absorption_specie) \n",
    "            \n",
    "            \n",
    "#             os.chdir(f)        \n",
    "\n",
    "#             source = 'from_MehmetTopsakal'\n",
    "\n",
    "#             if os.path.isfile('xmu.dat'):\n",
    "\n",
    "#                 xanes = mXANES(data_loadfrom='xmu.dat',structure=[structure,indices[i][0]],xanesid=mpid,source=source,edge='K',multiplicity=len(s))   \n",
    "#                 os.makedirs(clean_dbroot+mpid,exist_ok=True)\n",
    "#                 shutil.copy('../CONTCAR',clean_dbroot+mpid)                    \n",
    "#                 os.makedirs(clean_dbroot+mpid+'/'+f_new,exist_ok=True)\n",
    "#                 pickle.dump(xanes, open(clean_dbroot+mpid+'/'+f_new+'/xanes.pkl', 'wb'))  \n",
    "#             else:\n",
    "#                 print(f+' missing')\n",
    "\n",
    "\n",
    "#             os.chdir('..')\n",
    "           \n",
    "#     os.chdir(here)\n",
    "    \n",
    "    \n",
    "    \n",
    "# os.chdir('/home/mt/_databases/t4iss/OCEAN_data_clean/mp-777129/')\n",
    "# folders = [f for f in os.listdir() if os.path.isdir(f)]\n",
    "# for i in folders:\n",
    "#     os.chdir(i)\n",
    "#     source = 'from_MehmetTopsakal'\n",
    "#     xanes = mXANES(data_loadfrom='xmu.dat',structure=[structure,indices[i][0]],xanesid=mpid,source=source,edge='K',multiplicity=len(s))   \n",
    "#     os.makedirs(clean_dbroot+mpid,exist_ok=True)\n",
    "#     os.makedirs(clean_dbroot+mpid+'/'+f,exist_ok=True)\n",
    "#     pickle.dump(xanes, open(clean_dbroot+mpid+'/'+f+'/xanes.pkl', 'wb'))      "
   ]
  },
  {
   "cell_type": "code",
   "execution_count": 9,
   "metadata": {
    "ExecuteTime": {
     "end_time": "2018-04-04T14:55:44.983109Z",
     "start_time": "2018-04-04T14:55:44.885946Z"
    }
   },
   "outputs": [],
   "source": []
  },
  {
   "cell_type": "code",
   "execution_count": 3,
   "metadata": {
    "ExecuteTime": {
     "end_time": "2018-04-04T15:41:44.043692Z",
     "start_time": "2018-04-04T15:41:44.009975Z"
    },
    "code_folding": [
     0
    ]
   },
   "outputs": [],
   "source": [
    "# #\n",
    "# [ave,site] = read_xanes('/home/mt/_databases/t4iss/OCEAN_data_clean/mp-777129','Ti','ocean',\n",
    "#                        symprec=1,ang_tol=10)\n",
    "\n",
    "# fig = plt.figure(figsize=(9,6))\n",
    "# ax=fig.add_subplot('111')\n",
    "\n",
    "# ys = 0\n",
    "# for i in site:\n",
    "#     i.get_nn(axin=ax,yshift=ys,ms=11,lp='r:'); ys = ys +1\n",
    "\n",
    "# savefig('plot.png', format='png', dpi=150)  "
   ]
  },
  {
   "cell_type": "code",
   "execution_count": 51,
   "metadata": {
    "ExecuteTime": {
     "end_time": "2018-04-03T01:18:28.168613Z",
     "start_time": "2018-04-03T01:18:28.132516Z"
    }
   },
   "outputs": [],
   "source": []
  },
  {
   "cell_type": "code",
   "execution_count": 36,
   "metadata": {
    "ExecuteTime": {
     "end_time": "2018-04-02T23:35:54.355566Z",
     "start_time": "2018-04-02T23:35:54.315352Z"
    }
   },
   "outputs": [
    {
     "name": "stdout",
     "output_type": "stream",
     "text": [
      "/home/mt/Dropbox/t4iss/temp\n"
     ]
    }
   ],
   "source": [
    "cd .."
   ]
  },
  {
   "cell_type": "code",
   "execution_count": 94,
   "metadata": {
    "ExecuteTime": {
     "end_time": "2018-04-03T03:40:50.115659Z",
     "start_time": "2018-04-03T03:40:50.077607Z"
    }
   },
   "outputs": [],
   "source": [
    "os.chdir('/home/mt/Dropbox/t4iss/temp/')\n",
    "\n",
    "write_inputxml(absorption_specie='Zn',title='by_MehmetTopsakal',speciespath='../',\n",
    "                   doground='fromscratch',\n",
    "                   xctype='LDA_PW',ngridk='4 4 4',\n",
    "                   writexs=True, copyfromscf=True,\n",
    "                   ngridk_xs='2 2 2',ngridq=None,\n",
    "                   nempty_xs=100,nempty_screen=100,nempty_bse=100,\n",
    "                   gqmax='3.0',\n",
    "                   intv=[177.5, 181.5])"
   ]
  }
 ],
 "metadata": {
  "kernelspec": {
   "display_name": "Python 3",
   "language": "python",
   "name": "python3"
  },
  "language_info": {
   "codemirror_mode": {
    "name": "ipython",
    "version": 3
   },
   "file_extension": ".py",
   "mimetype": "text/x-python",
   "name": "python",
   "nbconvert_exporter": "python",
   "pygments_lexer": "ipython3",
   "version": "3.6.2"
  }
 },
 "nbformat": 4,
 "nbformat_minor": 2
}
