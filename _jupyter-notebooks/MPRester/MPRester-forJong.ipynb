{
 "cells": [
  {
   "cell_type": "code",
   "execution_count": 1,
   "metadata": {
    "ExecuteTime": {
     "end_time": "2017-12-19T20:31:23.316577Z",
     "start_time": "2017-12-19T20:31:23.004886Z"
    }
   },
   "outputs": [],
   "source": [
    "from pymatgen import MPRester\n",
    "mpr = MPRester('AdhiVtzgaqU02rZT')  # here I put my API key to access MP"
   ]
  },
  {
   "cell_type": "code",
   "execution_count": 2,
   "metadata": {
    "ExecuteTime": {
     "end_time": "2017-12-19T20:31:24.266876Z",
     "start_time": "2017-12-19T20:31:24.235532Z"
    }
   },
   "outputs": [],
   "source": [
    "# this gets POSCAR file from MP\n",
    "def get_poscar(mpid,fmt=None,filename=None):\n",
    "    \n",
    "    if fmt is None: fmt='poscar'\n",
    "    if filename is None: filename='POSCAR.vasp' \n",
    "        \n",
    "    data = mpr.get_data(mpid, data_type=\"vasp\")\n",
    "    \n",
    "    structure = mpr.get_structure_by_material_id(mpid,final=False)\n",
    "    structure.to(fmt=fmt,filename=filename)\n",
    "    return\n",
    "\n",
    "\n",
    "# this gets CONTCAR file from MP\n",
    "def get_contcar(mpid,fmt=None,filename=None):\n",
    "    \n",
    "    if fmt is None: fmt='poscar'\n",
    "    if filename is None: filename='CONTCAR.vasp' \n",
    "        \n",
    "    data = mpr.get_data(mpid, data_type=\"vasp\")\n",
    "    \n",
    "    structure = mpr.get_structure_by_material_id(mpid,final=True)\n",
    "    structure.to(fmt=fmt,filename=filename)\n",
    "    return"
   ]
  },
  {
   "cell_type": "code",
   "execution_count": 3,
   "metadata": {
    "ExecuteTime": {
     "end_time": "2017-11-30T12:54:08.395496Z",
     "start_time": "2017-11-30T12:54:05.956860Z"
    }
   },
   "outputs": [],
   "source": [
    "mpid = 'mp-2292'\n",
    "get_poscar(mpid)\n",
    "get_contcar(mpid)"
   ]
  },
  {
   "cell_type": "code",
   "execution_count": 4,
   "metadata": {
    "ExecuteTime": {
     "end_time": "2017-12-19T20:32:13.681447Z",
     "start_time": "2017-12-19T20:32:11.366127Z"
    }
   },
   "outputs": [],
   "source": [
    "mpid = 'mp-1968'\n",
    "get_poscar(mpid)\n",
    "get_contcar(mpid)"
   ]
  },
  {
   "cell_type": "code",
   "execution_count": null,
   "metadata": {},
   "outputs": [],
   "source": []
  }
 ],
 "metadata": {
  "kernelspec": {
   "display_name": "Python 3",
   "language": "python",
   "name": "python3"
  },
  "language_info": {
   "codemirror_mode": {
    "name": "ipython",
    "version": 3
   },
   "file_extension": ".py",
   "mimetype": "text/x-python",
   "name": "python",
   "nbconvert_exporter": "python",
   "pygments_lexer": "ipython3",
   "version": "3.6.3"
  }
 },
 "nbformat": 4,
 "nbformat_minor": 2
}
