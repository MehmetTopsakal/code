{
 "cells": [
  {
   "cell_type": "code",
   "execution_count": 1,
   "metadata": {
    "ExecuteTime": {
     "end_time": "2017-10-31T14:13:02.726950Z",
     "start_time": "2017-10-31T14:13:02.102195Z"
    }
   },
   "outputs": [],
   "source": [
    "import numpy as np\n",
    "import os,sys\n",
    "import subprocess as sp \n",
    "\n",
    "from pymatgen import MPRester\n",
    "mpr = MPRester('gI8Qmxe9AnkbTvNd')  # here I put my API key to access MP\n",
    "from pymatgen.core.periodic_table import Element\n",
    "\n",
    "import shutil\n",
    "\n",
    "from numpy import linalg as LA\n",
    "from scipy.interpolate import InterpolatedUnivariateSpline\n",
    "\n",
    "from pylab import *\n",
    "from matplotlib import gridspec\n",
    "from matplotlib import pyplot as plt\n",
    "from mpl_toolkits.axes_grid1.inset_locator import inset_axes, zoomed_inset_axes\n",
    "from matplotlib import gridspec\n",
    "\n",
    "%matplotlib inline"
   ]
  },
  {
   "cell_type": "markdown",
   "metadata": {},
   "source": [
    "<span class=\"mark\">Here I set runtime parameters</span>"
   ]
  },
  {
   "cell_type": "code",
   "execution_count": 2,
   "metadata": {
    "ExecuteTime": {
     "end_time": "2017-10-31T14:13:04.451419Z",
     "start_time": "2017-10-31T14:13:04.439965Z"
    }
   },
   "outputs": [],
   "source": [
    "mpid='mp-390'     # Materials Project id\n",
    "ca='Ti'           # scattering ion symbol\n",
    "\n",
    "rFMS=7.1          # FMS radius in FEFF calculation\n",
    "rSCF=5.6          # SCF radius in FEFF calculation\n",
    "corehole='RPA'    # core-hole treatment\n",
    "\n",
    "nmax=20           # this will be used to determine inequivalent ions of structure\n",
    "                  # 50-80 is usually enough.\n",
    "\n",
    "#\"This is for linux. On Windows, maybe you need to set this to feff.BAT in JEFF directory.    \n",
    "feff_command='/software/JFEFF/new/feff.sh 8'\n",
    "# feff_command='ls'"
   ]
  },
  {
   "cell_type": "markdown",
   "metadata": {},
   "source": [
    "<span class=\"mark\">Here I define functions</span>"
   ]
  },
  {
   "cell_type": "code",
   "execution_count": 3,
   "metadata": {
    "ExecuteTime": {
     "end_time": "2017-10-31T14:13:12.604656Z",
     "start_time": "2017-10-31T14:13:06.332692Z"
    }
   },
   "outputs": [],
   "source": [
    "# This searches structures in MP database.\n",
    "# not used in this version.\n",
    "def generate_mpid_list(search_pattern,nmax=None):\n",
    "    \n",
    "    if nmax is None: nmax=5\n",
    "    \n",
    "    found = []\n",
    "    data = mpr.get_data(search_pattern, data_type=\"vasp\", prop=\"nsites\")\n",
    "    for i in range(len(data)):\n",
    "        if data[i]['nsites'] <= nmax: found.append(data[i]['material_id'])\n",
    "        \n",
    "    l = len(found)\n",
    "    print(\"\"\"Found %(l)i structures\"\"\" % vars())\n",
    "    \n",
    "    mpid_list = found \n",
    "    \n",
    "    return mpid_list\n",
    "\n",
    "\n",
    "# this gets POSCAR file from MP\n",
    "def get_poscar(mpid):\n",
    "    \n",
    "    data = mpr.get_data(mpid, data_type=\"vasp\")\n",
    "    \n",
    "    # if icsd_id is not available, this stucture \n",
    "    # might be artifical. So I get relaxed coordinates.\n",
    "    if data[0]['icsd_ids']:\n",
    "        structure = mpr.get_structure_by_material_id(mpid,final=False) # get initial coordinates ()\n",
    "        structure.to(filename = \"POSCAR\")       \n",
    "    else:\n",
    "        structure = mpr.get_structure_by_material_id(mpid,final=True)\n",
    "        structure.to(filename = \"POSCAR\")        \n",
    "    return\n",
    "\n",
    "\n",
    "# this reads POSCAR\n",
    "def readposcar(file):\n",
    "    \n",
    "    lattice = []; positions_dir = []; labels = []\n",
    "    \n",
    "    with open(file, mode='r') as f:\n",
    "        \n",
    "        f.readline()\n",
    "        f.readline()\n",
    "        \n",
    "        for i in range(3):\n",
    "            l =  f.readline()\n",
    "            l = l.split()\n",
    "            l = [float(x) for x in l]\n",
    "            lattice.append(l)\n",
    "        lattice = np.array(lattice)\n",
    "        \n",
    "        f.readline()\n",
    "        natoms = f.readline().split(); natoms = [int(x) for x in natoms]; natoms = np.array(natoms)\n",
    "        mode = f.readline().split()\n",
    "        \n",
    "        labels = []\n",
    "        for i in range(sum(natoms)):\n",
    "            p = f.readline()\n",
    "            l = p.split()[3]\n",
    "            p = p.split()[0:3]\n",
    "            p = [float(x) for x in p]\n",
    "            positions_dir.append(p)\n",
    "            labels.append(l)\n",
    "                              \n",
    "        positions = []; pnew = [] \n",
    "        for p in range(len(positions_dir)):\n",
    "            pnew.append(positions_dir[p][0]*lattice[0][0]+positions_dir[p][1]*lattice[1][0] + positions_dir[p][2]*lattice[2][0] ); \n",
    "            pnew.append(positions_dir[p][0]*lattice[0][1]+positions_dir[p][1]*lattice[1][1] + positions_dir[p][2]*lattice[2][1] );\n",
    "            pnew.append(positions_dir[p][0]*lattice[0][2]+positions_dir[p][1]*lattice[1][2] + positions_dir[p][2]*lattice[2][2] );\n",
    "            positions.append(pnew); pnew = []   \n",
    "        positions = np.array(positions) \n",
    "        positions = positions.reshape(len(positions),3,order='F').copy()\n",
    "\n",
    "    return labels, natoms, lattice, positions, positions_dir\n",
    "\n",
    "\n",
    "# this creates 3x3x3 supercell\n",
    "def make_333_supercell(labels, natoms, lattice, positions):\n",
    "    \n",
    "    supercell = []; pnew=[]; p=positions; l=lattice; ls = []\n",
    "\n",
    "    for s in range(len(p)):\n",
    "\n",
    "        pnew.append(p[s][0]); pnew.append(p[s][1]); pnew.append(p[s][2]); ls.append(labels[s]); supercell.append(pnew); pnew=[]\n",
    "\n",
    "        pnew.append(p[s][0]+l[0][0]); pnew.append(p[s][1]+l[0][1]); pnew.append(p[s][2]+l[0][2]); ls.append(labels[s]); supercell.append(pnew); pnew=[] # +x\n",
    "        pnew.append(p[s][0]-l[0][0]); pnew.append(p[s][1]-l[0][1]); pnew.append(p[s][2]-l[0][2]); ls.append(labels[s]); supercell.append(pnew); pnew=[] # -x\n",
    "        pnew.append(p[s][0]+l[1][0]); pnew.append(p[s][1]+l[1][1]); pnew.append(p[s][2]+l[1][2]); ls.append(labels[s]); supercell.append(pnew); pnew=[] # +y\n",
    "        pnew.append(p[s][0]-l[1][0]); pnew.append(p[s][1]-l[1][1]); pnew.append(p[s][2]-l[1][2]); ls.append(labels[s]); supercell.append(pnew); pnew=[] # -y\n",
    "        pnew.append(p[s][0]+l[2][0]); pnew.append(p[s][1]+l[2][1]); pnew.append(p[s][2]+l[2][2]); ls.append(labels[s]); supercell.append(pnew); pnew=[] # +z\n",
    "        pnew.append(p[s][0]-l[2][0]); pnew.append(p[s][1]-l[2][1]); pnew.append(p[s][2]-l[2][2]); ls.append(labels[s]); supercell.append(pnew); pnew=[] # -z\n",
    "\n",
    "        pnew.append(p[s][0]+l[0][0]+l[1][0]); pnew.append(p[s][1]+l[0][1]+l[1][1]); pnew.append(p[s][2]+l[0][2]+l[1][2]); ls.append(labels[s]); supercell.append(pnew); pnew=[] # +x+y\n",
    "        pnew.append(p[s][0]+l[0][0]-l[1][0]); pnew.append(p[s][1]+l[0][1]-l[1][1]); pnew.append(p[s][2]+l[0][2]-l[1][2]); ls.append(labels[s]); supercell.append(pnew); pnew=[] # +x-y\n",
    "        pnew.append(p[s][0]-l[0][0]+l[1][0]); pnew.append(p[s][1]-l[0][1]+l[1][1]); pnew.append(p[s][2]-l[0][2]+l[1][2]); ls.append(labels[s]); supercell.append(pnew); pnew=[] # -x+y\n",
    "        pnew.append(p[s][0]-l[0][0]-l[1][0]); pnew.append(p[s][1]-l[0][1]-l[1][1]); pnew.append(p[s][2]-l[0][2]-l[1][2]); ls.append(labels[s]); supercell.append(pnew); pnew=[] # -x-y\n",
    "        pnew.append(p[s][0]+l[2][0]+l[0][0]); pnew.append(p[s][1]+l[2][1]+l[0][1]); pnew.append(p[s][2]+l[2][2]+l[0][2]); ls.append(labels[s]); supercell.append(pnew); pnew=[] # +z+x\n",
    "        pnew.append(p[s][0]+l[2][0]-l[0][0]); pnew.append(p[s][1]+l[2][1]-l[0][1]); pnew.append(p[s][2]+l[2][2]-l[0][2]); ls.append(labels[s]); supercell.append(pnew); pnew=[] # +z-x\n",
    "        pnew.append(p[s][0]-l[2][0]+l[0][0]); pnew.append(p[s][1]-l[2][1]+l[0][1]); pnew.append(p[s][2]-l[2][2]+l[0][2]); ls.append(labels[s]); supercell.append(pnew); pnew=[] # -z+x\n",
    "        pnew.append(p[s][0]-l[2][0]-l[0][0]); pnew.append(p[s][1]-l[2][1]-l[0][1]); pnew.append(p[s][2]-l[2][2]-l[0][2]); ls.append(labels[s]); supercell.append(pnew); pnew=[] # -z-x\n",
    "        pnew.append(p[s][0]+l[2][0]+l[1][0]); pnew.append(p[s][1]+l[2][1]+l[1][1]); pnew.append(p[s][2]+l[2][2]+l[1][2]); ls.append(labels[s]); supercell.append(pnew); pnew=[] # +z+y\n",
    "        pnew.append(p[s][0]+l[2][0]-l[1][0]); pnew.append(p[s][1]+l[2][1]-l[1][1]); pnew.append(p[s][2]+l[2][2]-l[1][2]); ls.append(labels[s]); supercell.append(pnew); pnew=[] # +z-y\n",
    "        pnew.append(p[s][0]-l[2][0]+l[1][0]); pnew.append(p[s][1]-l[2][1]+l[1][1]); pnew.append(p[s][2]-l[2][2]+l[1][2]); ls.append(labels[s]); supercell.append(pnew); pnew=[] # -z+y\n",
    "        pnew.append(p[s][0]-l[2][0]-l[1][0]); pnew.append(p[s][1]-l[2][1]-l[1][1]); pnew.append(p[s][2]-l[2][2]-l[1][2]); ls.append(labels[s]); supercell.append(pnew); pnew=[] # -z-y\n",
    "\n",
    "        pnew.append(p[s][0]+l[2][0]+l[0][0]+l[1][0]); pnew.append(p[s][1]+l[2][1]+l[0][1]+l[1][1]); pnew.append(p[s][2]+l[2][2]+l[0][2]+l[1][2]); ls.append(labels[s]); supercell.append(pnew); pnew=[] # +z+x+y\n",
    "        pnew.append(p[s][0]+l[2][0]+l[0][0]-l[1][0]); pnew.append(p[s][1]+l[2][1]+l[0][1]-l[1][1]); pnew.append(p[s][2]+l[2][2]+l[0][2]-l[1][2]); ls.append(labels[s]); supercell.append(pnew); pnew=[] # +z+x-y\n",
    "        pnew.append(p[s][0]+l[2][0]-l[0][0]-l[1][0]); pnew.append(p[s][1]+l[2][1]-l[0][1]-l[1][1]); pnew.append(p[s][2]+l[2][2]-l[0][2]-l[1][2]); ls.append(labels[s]); supercell.append(pnew); pnew=[] # +z-x-y\n",
    "        pnew.append(p[s][0]+l[2][0]-l[0][0]+l[1][0]); pnew.append(p[s][1]+l[2][1]-l[0][1]+l[1][1]); pnew.append(p[s][2]+l[2][2]-l[0][2]+l[1][2]); ls.append(labels[s]); supercell.append(pnew); pnew=[] # +z-x+y\n",
    "        pnew.append(p[s][0]-l[2][0]+l[0][0]+l[1][0]); pnew.append(p[s][1]-l[2][1]+l[0][1]+l[1][1]); pnew.append(p[s][2]-l[2][2]+l[0][2]+l[1][2]); ls.append(labels[s]); supercell.append(pnew); pnew=[] # -z+x+y\n",
    "        pnew.append(p[s][0]-l[2][0]+l[0][0]-l[1][0]); pnew.append(p[s][1]-l[2][1]+l[0][1]-l[1][1]); pnew.append(p[s][2]-l[2][2]+l[0][2]-l[1][2]); ls.append(labels[s]); supercell.append(pnew); pnew=[] # -z+x-y\n",
    "        pnew.append(p[s][0]-l[2][0]-l[0][0]-l[1][0]); pnew.append(p[s][1]-l[2][1]-l[0][1]-l[1][1]); pnew.append(p[s][2]-l[2][2]-l[0][2]-l[1][2]); ls.append(labels[s]); supercell.append(pnew); pnew=[] # -z-x-y\n",
    "        pnew.append(p[s][0]-l[2][0]-l[0][0]+l[1][0]); pnew.append(p[s][1]-l[2][1]-l[0][1]+l[1][1]); pnew.append(p[s][2]-l[2][2]-l[0][2]+l[1][2]); ls.append(labels[s]); supercell.append(pnew); pnew=[] # -z-x+y\n",
    "\n",
    "    positions_supercell = np.array(supercell) ;\n",
    "    positions_supercell = positions_supercell.reshape(len(p)*27,3,order='F').copy()\n",
    "    \n",
    "    lattice_supercell = lattice*3\n",
    "    natoms_supercell = natoms*3\n",
    "    labels_supercell = ls\n",
    "    \n",
    "    return labels_supercell, natoms_supercell, lattice_supercell, positions_supercell\n",
    "\n",
    "\n",
    "def getKey0(item):\n",
    "    return item[0]\n",
    "def getKey4(item):\n",
    "    return item[4]\n",
    "\n",
    "\n",
    "# gr is like radial distrubution function.\n",
    "# I use this to determine ineqiuivalent ions.\n",
    "def get_gr(labels_supercell,positions_supercell):\n",
    "\n",
    "    ds = []\n",
    "    Zs = []\n",
    "    dZs = []\n",
    "    for i in range(len(labels_supercell)):\n",
    "\n",
    "        # distances\n",
    "        n = LA.norm(positions_supercell[i])\n",
    "        ds.append(n)\n",
    "        n = float('{:.2f}'.format(n))\n",
    "\n",
    "        # Zs\n",
    "        el = Element(labels_supercell[i])\n",
    "        d = el.data\n",
    "        Z = d['Atomic no']\n",
    "        Zs.append(Z)\n",
    "\n",
    "        # distance_round * Z\n",
    "        dZs.append(n*Z)\n",
    "\n",
    "\n",
    "    zipped = zip(ds,Zs,dZs)\n",
    "    zipped = list(zipped)\n",
    "    \n",
    "    zipped_sorted = sorted(zipped, key=getKey0)\n",
    "\n",
    "    gr = []\n",
    "    for i in range(len(zipped_sorted)):\n",
    "        if zipped_sorted[i][0] < 15: gr.append([i,zipped_sorted[i][2]])\n",
    "    gr = np.array(gr)\n",
    "\n",
    "    return gr\n",
    "\n",
    "\n",
    "# this returns sum of gr\n",
    "def get_sumgr(ca,nmax): \n",
    "    \n",
    "    [labels, natoms, lattice, positions, positions_dir] = readposcar('POSCAR')\n",
    "    \n",
    "    shifts = positions[ca] \n",
    "    \n",
    "    # move selected to origin\n",
    "    positions_shifted = []\n",
    "    for i in range(len(positions)):\n",
    "        p = [positions[i][0]-shifts[0],positions[i][1]-shifts[1],positions[i][2]-shifts[2]]\n",
    "        positions_shifted.append(p)\n",
    "    positions_shifted  \n",
    "\n",
    "    labels_supercell, natoms_supercell, lattice_supercell, positions_supercell = make_333_supercell(labels, natoms, lattice, positions_shifted)\n",
    "    ds = []\n",
    "    for i in positions_supercell:\n",
    "        n = LA.norm(i)\n",
    "        ds.append(n)    \n",
    "    # if supercell radius less than 16 A, we create another 3x3x3 supercell    \n",
    "    if max(ds) < 16:\n",
    "        labels_supercell, natoms_supercell, lattice_supercell, positions_supercell = make_333_supercell(labels_supercell, natoms_supercell, lattice_supercell, positions_supercell)\n",
    "\n",
    "    gr = get_gr(labels_supercell,positions_supercell)    \n",
    "    sumgr = sum(gr[:,1][0:nmax])\n",
    "    \n",
    "    return int(sumgr), gr\n",
    "\n",
    "# returns list of sum of grs of each ion in the structure\n",
    "# if two ion has same gr, we can assume that they are equivalent.\n",
    "def get_sgr_list(es,nmax):\n",
    "    \n",
    "    [labels, natoms, lattice, positions, positions_dir] = readposcar('POSCAR')\n",
    "    \n",
    "    clist=[]\n",
    "    for i in range(len(labels)):\n",
    "        if labels[i] == es:\n",
    "            clist.append(i) \n",
    "    \n",
    "    sumgrs = []\n",
    "    for i in clist:\n",
    "        sumgr, gr = get_sumgr(i,nmax)\n",
    "        sumgrs.append(sumgr)\n",
    "        \n",
    "    z= zip(clist,sumgrs)\n",
    "    z = list(z)\n",
    "    \n",
    "    labels_short = []\n",
    "    for i in labels:\n",
    "        if i not in labels_short:\n",
    "            labels_short.append(i)\n",
    "            \n",
    "    # formula_text\n",
    "    formula = '$'\n",
    "    for i,s in enumerate(labels_short):\n",
    "        formula = formula + s + '_{' + str(natoms[i]) + '}'\n",
    "    formula = formula + '$'\n",
    "            \n",
    "    return z, formula      \n",
    "\n",
    "# this writes feff.inp\n",
    "def write_feffinp(ca,dmax,rFMS,rSCF,corehole): \n",
    "    \n",
    "    [labels, natoms, lattice, positions, positions_dir] = readposcar('../POSCAR')\n",
    "    \n",
    "    labels_short = []\n",
    "    for i in labels:\n",
    "        if i not in labels_short:\n",
    "            labels_short.append(i)\n",
    "    \n",
    "    shifts = positions[ca] \n",
    "    \n",
    "    # move selected to origin\n",
    "    positions_shifted = []\n",
    "    for i in range(len(positions)):\n",
    "        p = [positions[i][0]-shifts[0],positions[i][1]-shifts[1],positions[i][2]-shifts[2]]\n",
    "        positions_shifted.append(p)\n",
    "    positions_shifted  \n",
    "\n",
    "    labels_supercell, natoms_supercell, lattice_supercell, positions_supercell = make_333_supercell(labels, natoms, lattice, positions_shifted)\n",
    "        \n",
    "    ds = []\n",
    "    for i in positions_supercell:\n",
    "        n = LA.norm(i)\n",
    "        ds.append(n)    \n",
    "    # if supercell radius less than dmax + 1, we create another 3x3x3 supercell    \n",
    "    if max(ds) < (dmax+1):\n",
    "        labels_supercell, natoms_supercell, lattice_supercell, positions_supercell = make_333_supercell(labels_supercell, natoms_supercell, lattice_supercell, positions_supercell)\n",
    "   \n",
    "    atoms = []\n",
    "    ds = []\n",
    "    for i,s in enumerate(positions_supercell):\n",
    "        n = LA.norm(s)\n",
    "        if n <= dmax:\n",
    "            atoms.append([s[0],s[1],s[2],labels_supercell[i],n])\n",
    "                                 \n",
    "    atoms = sorted(atoms, key=getKey4)\n",
    "    \n",
    "    for i,a in enumerate(atoms):\n",
    "        s = a[3]\n",
    "        ind = labels_short.index(s)\n",
    "        atoms[i][3] = ind\n",
    " \n",
    "    f=open('feff.inp',\"w+\")    \n",
    "    f.write(\"\"\"TITLE xx             \n",
    "                                                   \n",
    "EDGE      K\n",
    "S02       1.0\n",
    "COREHOLE  %(corehole)s                                  \n",
    "CONTROL   1 1 1 1 1 1                               \n",
    "                                                   \n",
    "XANES 4 0.05 0.1\n",
    "#ABSOLUTE                               \n",
    "                                                   \n",
    "FMS       %(rFMS)2.1f                                \n",
    "EXCHANGE  0                                 \n",
    "SCF       %(rSCF)2.1f                                        \n",
    "RPATH     0.1 \n",
    "    \n",
    "\"\"\" % vars())\n",
    "    \n",
    "    Sca =  labels[ca]      \n",
    "    el = Element(Sca); d = el.data; Zca = d['Atomic no']    \n",
    "    \n",
    "    f.write(\"\"\"POTENTIALS\n",
    "*   ipot   Z      element   l_scmt   l_fms   stoichiometry\n",
    "    0      %(Zca)i     %(Sca)s        -1       -1      0.001 \"\"\" % vars())     \n",
    "    \n",
    "    \n",
    "    for i in range(len(labels_short)):\n",
    "        n = (i+1)\n",
    "        s = labels_short[i]\n",
    "        el = Element(s); d = el.data; z = d['Atomic no'] \n",
    "        st = natoms[i]\n",
    "        f.write(\"\"\"\n",
    "    %(n)i      %(z)i     %(s)s        -1       -1      %(st)i \"\"\" % vars())         \n",
    "        \n",
    "    f.write(\"\\n \\n\")  \n",
    "    \n",
    "    f.write(\"ATOMS\\n\")\n",
    "    f.write(\"      -0.000000     0.000000     0.000000     0    0.0\\n\")    \n",
    "    for i in atoms[1:]:      \n",
    "        f.write('  %13.6f%13.6f%13.6f   %3d   %6.3f\\n' % (i[0], i[1], i[2], i[3]+1, i[4]))\n",
    "    f.write(\"END\\n\")    \n",
    "    f.close()       \n",
    "    \n",
    "    for_dist_plot = []\n",
    "    for i in atoms:\n",
    "        for_dist_plot.append([i[4],i[3]])\n",
    "    \n",
    "    return for_dist_plot, labels_short"
   ]
  },
  {
   "cell_type": "markdown",
   "metadata": {},
   "source": [
    "<span class=\"mark\">This part analyzes structure and finds ineqivalent ions for feff calculation part</span>"
   ]
  },
  {
   "cell_type": "code",
   "execution_count": 4,
   "metadata": {
    "ExecuteTime": {
     "end_time": "2017-10-31T14:13:14.898887Z",
     "start_time": "2017-10-31T14:13:12.606442Z"
    }
   },
   "outputs": [
    {
     "name": "stdout",
     "output_type": "stream",
     "text": [
      "[(4, 860), (5, 860)] $O_{4}Ti_{2}$\n"
     ]
    }
   ],
   "source": [
    "os.makedirs(mpid,exist_ok=True)\n",
    "os.chdir(mpid)\n",
    "\n",
    "get_poscar(mpid)\n",
    "sgr_list, formula = get_sgr_list(ca,nmax) \n",
    "print(sgr_list, formula)"
   ]
  },
  {
   "cell_type": "markdown",
   "metadata": {
    "ExecuteTime": {
     "end_time": "2017-09-15T03:56:27.682007Z",
     "start_time": "2017-09-15T03:56:27.662954Z"
    }
   },
   "source": [
    "<span class=\"mark\">This part does feff calculations for inequivalent ions</span>"
   ]
  },
  {
   "cell_type": "code",
   "execution_count": 5,
   "metadata": {
    "ExecuteTime": {
     "end_time": "2017-10-02T18:26:48.949239Z",
     "start_time": "2017-10-02T18:26:48.847275Z"
    }
   },
   "outputs": [
    {
     "name": "stdout",
     "output_type": "stream",
     "text": [
      "running feff calculation at /data/lt/gd/code/_jupyter-notebooks/calc_feff_by_mpid/v2/mp-390/at-005\n"
     ]
    },
    {
     "ename": "OSError",
     "evalue": "xmu.dat not found.",
     "output_type": "error",
     "traceback": [
      "\u001b[0;31m---------------------------------------------------------------------------\u001b[0m",
      "\u001b[0;31mOSError\u001b[0m                                   Traceback (most recent call last)",
      "\u001b[0;32m<ipython-input-5-c61c1f9f6d14>\u001b[0m in \u001b[0;36m<module>\u001b[0;34m\u001b[0m\n\u001b[1;32m     28\u001b[0m         \u001b[0mprint\u001b[0m\u001b[0;34m(\u001b[0m\u001b[0;34m'running feff calculation at '\u001b[0m\u001b[0;34m+\u001b[0m\u001b[0mos\u001b[0m\u001b[0;34m.\u001b[0m\u001b[0mgetcwd\u001b[0m\u001b[0;34m(\u001b[0m\u001b[0;34m)\u001b[0m\u001b[0;34m)\u001b[0m\u001b[0;34m\u001b[0m\u001b[0;34m\u001b[0m\u001b[0m\n\u001b[1;32m     29\u001b[0m         \u001b[0msp\u001b[0m\u001b[0;34m.\u001b[0m\u001b[0mcall\u001b[0m\u001b[0;34m(\u001b[0m\u001b[0mfeff_command\u001b[0m\u001b[0;34m,\u001b[0m \u001b[0mshell\u001b[0m\u001b[0;34m=\u001b[0m\u001b[0;32mTrue\u001b[0m\u001b[0;34m)\u001b[0m\u001b[0;34m\u001b[0m\u001b[0;34m\u001b[0m\u001b[0m\n\u001b[0;32m---> 30\u001b[0;31m         \u001b[0mxmu\u001b[0m \u001b[0;34m=\u001b[0m \u001b[0mnp\u001b[0m\u001b[0;34m.\u001b[0m\u001b[0mloadtxt\u001b[0m\u001b[0;34m(\u001b[0m\u001b[0;34m'xmu.dat'\u001b[0m\u001b[0;34m,\u001b[0m \u001b[0munpack\u001b[0m\u001b[0;34m=\u001b[0m\u001b[0;32mTrue\u001b[0m\u001b[0;34m,\u001b[0m \u001b[0mcomments\u001b[0m\u001b[0;34m=\u001b[0m\u001b[0;34m'#'\u001b[0m\u001b[0;34m,\u001b[0m \u001b[0musecols\u001b[0m\u001b[0;34m=\u001b[0m\u001b[0;34m(\u001b[0m\u001b[0;36m0\u001b[0m\u001b[0;34m,\u001b[0m\u001b[0;36m3\u001b[0m\u001b[0;34m)\u001b[0m\u001b[0;34m,\u001b[0m \u001b[0mskiprows\u001b[0m\u001b[0;34m=\u001b[0m\u001b[0;36m0\u001b[0m\u001b[0;34m)\u001b[0m\u001b[0;34m\u001b[0m\u001b[0;34m\u001b[0m\u001b[0m\n\u001b[0m\u001b[1;32m     31\u001b[0m         \u001b[0mxmus_calculated\u001b[0m\u001b[0;34m.\u001b[0m\u001b[0mappend\u001b[0m\u001b[0;34m(\u001b[0m\u001b[0mxmu\u001b[0m\u001b[0;34m)\u001b[0m\u001b[0;34m\u001b[0m\u001b[0;34m\u001b[0m\u001b[0m\n\u001b[1;32m     32\u001b[0m         \u001b[0matoms_calculated\u001b[0m\u001b[0;34m.\u001b[0m\u001b[0mappend\u001b[0m\u001b[0;34m(\u001b[0m\u001b[0;34m[\u001b[0m\u001b[0mfor_dist_plot\u001b[0m\u001b[0;34m,\u001b[0m \u001b[0mlabels_short\u001b[0m\u001b[0;34m,\u001b[0m \u001b[0mi\u001b[0m\u001b[0;34m[\u001b[0m\u001b[0;36m0\u001b[0m\u001b[0;34m]\u001b[0m\u001b[0;34m+\u001b[0m\u001b[0;36m1\u001b[0m\u001b[0;34m]\u001b[0m\u001b[0;34m)\u001b[0m\u001b[0;34m\u001b[0m\u001b[0;34m\u001b[0m\u001b[0m\n",
      "\u001b[0;32m~/software/anaconda3/lib/python3.7/site-packages/numpy/lib/npyio.py\u001b[0m in \u001b[0;36mloadtxt\u001b[0;34m(fname, dtype, comments, delimiter, converters, skiprows, usecols, unpack, ndmin, encoding, max_rows)\u001b[0m\n\u001b[1;32m    979\u001b[0m             \u001b[0mfname\u001b[0m \u001b[0;34m=\u001b[0m \u001b[0mos_fspath\u001b[0m\u001b[0;34m(\u001b[0m\u001b[0mfname\u001b[0m\u001b[0;34m)\u001b[0m\u001b[0;34m\u001b[0m\u001b[0;34m\u001b[0m\u001b[0m\n\u001b[1;32m    980\u001b[0m         \u001b[0;32mif\u001b[0m \u001b[0m_is_string_like\u001b[0m\u001b[0;34m(\u001b[0m\u001b[0mfname\u001b[0m\u001b[0;34m)\u001b[0m\u001b[0;34m:\u001b[0m\u001b[0;34m\u001b[0m\u001b[0;34m\u001b[0m\u001b[0m\n\u001b[0;32m--> 981\u001b[0;31m             \u001b[0mfh\u001b[0m \u001b[0;34m=\u001b[0m \u001b[0mnp\u001b[0m\u001b[0;34m.\u001b[0m\u001b[0mlib\u001b[0m\u001b[0;34m.\u001b[0m\u001b[0m_datasource\u001b[0m\u001b[0;34m.\u001b[0m\u001b[0mopen\u001b[0m\u001b[0;34m(\u001b[0m\u001b[0mfname\u001b[0m\u001b[0;34m,\u001b[0m \u001b[0;34m'rt'\u001b[0m\u001b[0;34m,\u001b[0m \u001b[0mencoding\u001b[0m\u001b[0;34m=\u001b[0m\u001b[0mencoding\u001b[0m\u001b[0;34m)\u001b[0m\u001b[0;34m\u001b[0m\u001b[0;34m\u001b[0m\u001b[0m\n\u001b[0m\u001b[1;32m    982\u001b[0m             \u001b[0mfencoding\u001b[0m \u001b[0;34m=\u001b[0m \u001b[0mgetattr\u001b[0m\u001b[0;34m(\u001b[0m\u001b[0mfh\u001b[0m\u001b[0;34m,\u001b[0m \u001b[0;34m'encoding'\u001b[0m\u001b[0;34m,\u001b[0m \u001b[0;34m'latin1'\u001b[0m\u001b[0;34m)\u001b[0m\u001b[0;34m\u001b[0m\u001b[0;34m\u001b[0m\u001b[0m\n\u001b[1;32m    983\u001b[0m             \u001b[0mfh\u001b[0m \u001b[0;34m=\u001b[0m \u001b[0miter\u001b[0m\u001b[0;34m(\u001b[0m\u001b[0mfh\u001b[0m\u001b[0;34m)\u001b[0m\u001b[0;34m\u001b[0m\u001b[0;34m\u001b[0m\u001b[0m\n",
      "\u001b[0;32m~/software/anaconda3/lib/python3.7/site-packages/numpy/lib/_datasource.py\u001b[0m in \u001b[0;36mopen\u001b[0;34m(path, mode, destpath, encoding, newline)\u001b[0m\n\u001b[1;32m    267\u001b[0m \u001b[0;34m\u001b[0m\u001b[0m\n\u001b[1;32m    268\u001b[0m     \u001b[0mds\u001b[0m \u001b[0;34m=\u001b[0m \u001b[0mDataSource\u001b[0m\u001b[0;34m(\u001b[0m\u001b[0mdestpath\u001b[0m\u001b[0;34m)\u001b[0m\u001b[0;34m\u001b[0m\u001b[0;34m\u001b[0m\u001b[0m\n\u001b[0;32m--> 269\u001b[0;31m     \u001b[0;32mreturn\u001b[0m \u001b[0mds\u001b[0m\u001b[0;34m.\u001b[0m\u001b[0mopen\u001b[0m\u001b[0;34m(\u001b[0m\u001b[0mpath\u001b[0m\u001b[0;34m,\u001b[0m \u001b[0mmode\u001b[0m\u001b[0;34m,\u001b[0m \u001b[0mencoding\u001b[0m\u001b[0;34m=\u001b[0m\u001b[0mencoding\u001b[0m\u001b[0;34m,\u001b[0m \u001b[0mnewline\u001b[0m\u001b[0;34m=\u001b[0m\u001b[0mnewline\u001b[0m\u001b[0;34m)\u001b[0m\u001b[0;34m\u001b[0m\u001b[0;34m\u001b[0m\u001b[0m\n\u001b[0m\u001b[1;32m    270\u001b[0m \u001b[0;34m\u001b[0m\u001b[0m\n\u001b[1;32m    271\u001b[0m \u001b[0;34m\u001b[0m\u001b[0m\n",
      "\u001b[0;32m~/software/anaconda3/lib/python3.7/site-packages/numpy/lib/_datasource.py\u001b[0m in \u001b[0;36mopen\u001b[0;34m(self, path, mode, encoding, newline)\u001b[0m\n\u001b[1;32m    621\u001b[0m                                       encoding=encoding, newline=newline)\n\u001b[1;32m    622\u001b[0m         \u001b[0;32melse\u001b[0m\u001b[0;34m:\u001b[0m\u001b[0;34m\u001b[0m\u001b[0;34m\u001b[0m\u001b[0m\n\u001b[0;32m--> 623\u001b[0;31m             \u001b[0;32mraise\u001b[0m \u001b[0mIOError\u001b[0m\u001b[0;34m(\u001b[0m\u001b[0;34m\"%s not found.\"\u001b[0m \u001b[0;34m%\u001b[0m \u001b[0mpath\u001b[0m\u001b[0;34m)\u001b[0m\u001b[0;34m\u001b[0m\u001b[0;34m\u001b[0m\u001b[0m\n\u001b[0m\u001b[1;32m    624\u001b[0m \u001b[0;34m\u001b[0m\u001b[0m\n\u001b[1;32m    625\u001b[0m \u001b[0;34m\u001b[0m\u001b[0m\n",
      "\u001b[0;31mOSError\u001b[0m: xmu.dat not found."
     ]
    }
   ],
   "source": [
    "n = 0\n",
    "mm = [n]\n",
    "cc = [sgr_list[0][1]]\n",
    "for i,s in enumerate(sgr_list[1:]):\n",
    "    if s[1] in cc:\n",
    "        ind = cc.index(s[1])\n",
    "        mm.append(ind)\n",
    "    else:\n",
    "        n = n + 1\n",
    "        mm.append(n)\n",
    "        cc.append(s[1])\n",
    "\n",
    "all_list = []\n",
    "for i,s in enumerate(sgr_list):\n",
    "    all_list.append([s[0],mm[i]])\n",
    "    \n",
    "\n",
    "# do feff calculation for inequivalent ions   \n",
    "calculated = []\n",
    "xmus_calculated = []\n",
    "atoms_calculated = []\n",
    "for i in all_list:    \n",
    "    if i[1] not in calculated:    \n",
    "        f = 'at-'+'{:03d}'.format(i[0]+1)\n",
    "        os.makedirs(f,exist_ok=True)\n",
    "        os.chdir(f)\n",
    "        for_dist_plot, labels_short = write_feffinp(ca=i[0],dmax=10,rFMS=rFMS,rSCF=rSCF,corehole=corehole)\n",
    "        print('running feff calculation at '+os.getcwd())\n",
    "        sp.call(feff_command, shell=True)\n",
    "        xmu = np.loadtxt('xmu.dat', unpack=True, comments='#', usecols=(0,3), skiprows=0)\n",
    "        xmus_calculated.append(xmu)    \n",
    "        atoms_calculated.append([for_dist_plot, labels_short, i[0]+1])        \n",
    "        calculated.append(i[1])\n",
    "        os.chdir('..') \n",
    "\n",
    "# calculate occurance of atoms \n",
    "la = array(all_list)\n",
    "la = list(la[:,1])\n",
    "occ_list = []\n",
    "for i in calculated:\n",
    "    occ_list.append(la.count(i))    \n",
    "\n",
    "        \n",
    "# find boundaries\n",
    "e_lowers =[]\n",
    "e_uppers =[]\n",
    "for i in xmus_calculated:\n",
    "    e_lowers.append(i[0][0])\n",
    "    e_uppers.append(i[0][-1]) \n",
    "e_lower = max(e_lowers)\n",
    "e_upper = min(e_uppers)\n",
    "e_int = np.arange(e_lower, e_upper, 0.2)  \n",
    "\n",
    "\n",
    "# interpolate xmus\n",
    "xmus_calculated_int = []\n",
    "for i in xmus_calculated:\n",
    "    f = InterpolatedUnivariateSpline(i[0],i[1])\n",
    "    i_int = f(e_int)\n",
    "    xmus_calculated_int.append([e_int,i_int])\n",
    "    \n",
    "# weight-averaged total XAS\n",
    "xmu_total = xmus_calculated_int[0][1]*0\n",
    "for a,i in enumerate(all_list):\n",
    "    ind = calculated.index(i[1])\n",
    "    xmu_total = xmu_total + xmus_calculated_int[ind][1]  \n",
    "xmu_total = xmu_total/len(all_list)"
   ]
  },
  {
   "cell_type": "markdown",
   "metadata": {},
   "source": [
    "<span class=\"mark\">This part does plotting</span>"
   ]
  },
  {
   "cell_type": "code",
   "execution_count": 6,
   "metadata": {
    "ExecuteTime": {
     "end_time": "2017-10-02T18:26:53.859536Z",
     "start_time": "2017-10-02T18:26:52.157491Z"
    }
   },
   "outputs": [
    {
     "data": {
      "image/png": "[encoded data removed]",
      "text/plain": [
       "<matplotlib.figure.Figure at 0x2adeb9019ac8>"
      ]
     },
     "metadata": {},
     "output_type": "display_data"
    }
   ],
   "source": [
    "fig = plt.figure(figsize=(12,5+len(atoms_calculated)/4))\n",
    "\n",
    "gs1 = gridspec.GridSpec(1, 2, width_ratios=[2,3] )\n",
    "gs1.update(top=0.95, bottom=0.1, left=0.07, right=0.97, wspace=0.05, hspace=0.05)\n",
    "\n",
    "gs2 = gridspec.GridSpec(1, 2, width_ratios=[2,3] )\n",
    "gs2.update(top=0.85, bottom=0.1, left=0.02, right=0.97, wspace=0.3, hspace=0.05)\n",
    "\n",
    "\n",
    "ax=fig.add_subplot(gs1[0])\n",
    "inset_ax = inset_axes(ax, width=\"50%\", height=\"40%\", loc=4)\n",
    "\n",
    "s=0\n",
    "for i in atoms_calculated:   \n",
    "    ds = np.array(i[0])\n",
    "    ax.plot(ds[0:20,0]+s,'k-')    \n",
    "    for i,d in enumerate(ds):\n",
    "        if i < 20: ax.plot( i, d[0]+s, 'oC'+str(int(d[1])) )   \n",
    "        if i < 20: inset_ax.plot( i, d[0], 'oC'+str(int(d[1])) )   \n",
    "    s += 1 \n",
    "    \n",
    "plt.xticks(visible=False)\n",
    "        \n",
    "for i in atoms_calculated[0][1]:\n",
    "    ax.plot(19,0,'o',label=i)\n",
    "    \n",
    "s = 0          \n",
    "for i in range(len(atoms_calculated)):\n",
    "    ax.annotate(ca+str(atoms_calculated[i][2])+' ('+str(occ_list[i])+')',(-2.9,s), fontsize=8)\n",
    "    s += 1    \n",
    "    \n",
    "ax.legend(loc='upper left',fontsize=12,ncol=5) \n",
    "ax.set_xticks(range(1,20))\n",
    "\n",
    "ax.set_xlim([-3,20])  \n",
    "ax.set_xlabel('Neighbour index #')\n",
    "ax.set_ylabel('Distance to scattering atom ($\\AA$)')    \n",
    "    \n",
    "\n",
    "       \n",
    "ax=fig.add_subplot(gs2[1])\n",
    "ax.plot(e_int,xmu_total,'k-')\n",
    "s=1\n",
    "for i in xmus_calculated_int:\n",
    "    ax.plot(i[0],s+i[1],'-')\n",
    "    s = s + 0.4 \n",
    "    \n",
    "s = 1          \n",
    "for i in range(len(atoms_calculated)):\n",
    "    ax.annotate(ca+str(atoms_calculated[i][2]),(e_int[0]-4,s), fontsize=8)\n",
    "    s += 0.4     \n",
    "# ax.annotate('w-ave',(e_int[0]-4,0.1), fontsize=12)\n",
    "ax.set_xlabel('Energy (eV)')\n",
    "ax.set_ylabel('Normalized $\\mu$(E)')     \n",
    "ax.set_xlim([e_int[0]-6,e_int[-1]+2])  \n",
    "\n",
    "textstr = 'mpid=%s (%s); scattering_atom=%s \\n corehole=%s; rFMS=%.2f; rSCF=%.2f; nmax=%d'%(mpid, formula, ca, corehole, rFMS, rSCF, nmax)\n",
    "props = dict(boxstyle='round', facecolor='wheat', alpha=0.5)    \n",
    "ax.text(0.10, 1.12, textstr, transform=ax.transAxes, fontsize=12,\n",
    "        verticalalignment='top', bbox=props)\n",
    "    \n",
    "savefig('feff.png', format='png', dpi=300)    "
   ]
  },
  {
   "cell_type": "markdown",
   "metadata": {},
   "source": [
    "<span class=\"mark\">This part does cleaning</span>"
   ]
  },
  {
   "cell_type": "code",
   "execution_count": 7,
   "metadata": {
    "ExecuteTime": {
     "end_time": "2017-10-02T18:27:50.086704Z",
     "start_time": "2017-10-02T18:27:50.014364Z"
    },
    "collapsed": true,
    "jupyter": {
     "outputs_hidden": true
    }
   },
   "outputs": [],
   "source": [
    "folders = [f for f in os.listdir() if os.path.isdir(f)]\n",
    "os.makedirs('feff',exist_ok=True)\n",
    "for f in folders:\n",
    "    if f[0:3] == 'at-': shutil.move(f, 'feff')\n",
    "    \n",
    "np.save('./feff/_xmus_calculated', xmus_calculated)    \n",
    "np.save('./feff/_xmus_calculated_int', xmus_calculated_int)      \n",
    "np.save('./feff/_atoms_calculated', atoms_calculated) \n",
    "np.save('./feff/_e_int', e_int) \n",
    "np.save('./feff/_xmu_total', xmu_total) \n",
    "np.save('./feff/_all_list', all_list) \n",
    "\n",
    "shutil.make_archive('feff', 'zip', 'feff')\n",
    "# shutil.move('feff.zip', 'feff.npz')\n",
    "\n",
    "shutil.rmtree('feff', ignore_errors=True)\n",
    "\n",
    "os.chdir('..')"
   ]
  },
  {
   "cell_type": "code",
   "execution_count": 8,
   "metadata": {
    "ExecuteTime": {
     "end_time": "2017-10-02T18:27:51.695342Z",
     "start_time": "2017-10-02T18:27:51.576483Z"
    }
   },
   "outputs": [
    {
     "name": "stdout",
     "output_type": "stream",
     "text": [
      "/home/mt/gd/research/mJupyter/calc_feff_by_mpid/v2\n"
     ]
    }
   ],
   "source": [
    "!pwd"
   ]
  },
  {
   "cell_type": "code",
   "execution_count": null,
   "metadata": {
    "collapsed": true,
    "jupyter": {
     "outputs_hidden": true
    }
   },
   "outputs": [],
   "source": []
  },
  {
   "cell_type": "code",
   "execution_count": null,
   "metadata": {
    "collapsed": true,
    "jupyter": {
     "outputs_hidden": true
    }
   },
   "outputs": [],
   "source": []
  }
 ],
 "metadata": {
  "kernelspec": {
   "display_name": "Python 3",
   "language": "python",
   "name": "python3"
  },
  "language_info": {
   "codemirror_mode": {
    "name": "ipython",
    "version": 3
   },
   "file_extension": ".py",
   "mimetype": "text/x-python",
   "name": "python",
   "nbconvert_exporter": "python",
   "pygments_lexer": "ipython3",
   "version": "3.7.7"
  },
  "widgets": {
   "application/vnd.jupyter.widget-state+json": {
    "state": {},
    "version_major": 2,
    "version_minor": 0
   }
  }
 },
 "nbformat": 4,
 "nbformat_minor": 4
}
