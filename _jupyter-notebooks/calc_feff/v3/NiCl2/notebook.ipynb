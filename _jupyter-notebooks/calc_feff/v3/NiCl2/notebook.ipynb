{
 "cells": [
  {
   "cell_type": "code",
   "execution_count": 36,
   "metadata": {
    "colab": {
     "base_uri": "https://localhost:8080/"
    },
    "executionInfo": {
     "elapsed": 201,
     "status": "ok",
     "timestamp": 1613603481016,
     "user": {
      "displayName": "Mehmet Topsakal",
      "photoUrl": "",
      "userId": "09508476659065132860"
     },
     "user_tz": 300
    },
    "id": "QggRDh9IgOUv",
    "outputId": "4bd6f6cc-bfe1-4167-bd4a-7c4e4997c67d"
   },
   "outputs": [
    {
     "name": "stdout",
     "output_type": "stream",
     "text": [
      "Drive already mounted at /content/drive; to attempt to forcibly remount, call drive.mount(\"/content/drive\", force_remount=True).\n"
     ]
    }
   ],
   "source": [
    "from google.colab import drive\n",
    "drive.mount('/content/drive')"
   ]
  },
  {
   "cell_type": "code",
   "execution_count": null,
   "metadata": {
    "colab": {
     "base_uri": "https://localhost:8080/"
    },
    "executionInfo": {
     "elapsed": 3536,
     "status": "ok",
     "timestamp": 1613603326491,
     "user": {
      "displayName": "Mehmet Topsakal",
      "photoUrl": "",
      "userId": "09508476659065132860"
     },
     "user_tz": 300
    },
    "id": "gPSUYXvJgOtv",
    "outputId": "dfa053aa-1bc2-4795-f381-5824c26394e3"
   },
   "outputs": [
    {
     "data": {
      "text/plain": [
       "['Collecting pymatgen',\n",
       " '  Using cached https://files.pythonhosted.org/packages/9b/50/a22eb063ca5ceb27c2be7e51e775ee4b5ade664525be143a2b1b77e4cc70/pymatgen-2021.2.16.tar.gz',\n",
       " '  Installing build dependencies ... \\x1b[?25l\\x1b[?25herror',\n",
       " \"\\x1b[31mERROR: Command errored out with exit status 1: /usr/bin/python3 /usr/local/lib/python3.6/dist-packages/pip install --ignore-installed --no-user --prefix /tmp/pip-build-env-a8pzglsm/overlay --no-warn-script-location -v --no-binary :none: --only-binary :none: -i https://pypi.org/simple -- 'numpy>=1.20.1' 'setuptools>=43.0.0' Check the logs for full command output.\\x1b[0m\"]"
      ]
     },
     "execution_count": 35,
     "metadata": {
      "tags": []
     },
     "output_type": "execute_result"
    }
   ],
   "source": [
    "!!pip install pymatgen\n",
    "# print('done')"
   ]
  },
  {
   "cell_type": "code",
   "execution_count": null,
   "metadata": {
    "id": "mDyW2kRpRG1n"
   },
   "outputs": [],
   "source": [
    "import os\n",
    "os.chdir('/content/drive/MyDrive/code/_jupyter-notebooks/calc_feff/v3/NiCl2')"
   ]
  },
  {
   "cell_type": "code",
   "execution_count": null,
   "metadata": {
    "id": "IClIoAZoRfq5"
   },
   "outputs": [],
   "source": [
    "!chmod +x /content/drive/MyDrive/_others/Colab-stuff/FEFF-on-colab-1/bin/*"
   ]
  },
  {
   "cell_type": "code",
   "execution_count": null,
   "metadata": {
    "id": "ElCgvhvzSAMo"
   },
   "outputs": [],
   "source": []
  },
  {
   "cell_type": "code",
   "execution_count": null,
   "metadata": {
    "colab": {
     "base_uri": "https://localhost:8080/"
    },
    "executionInfo": {
     "elapsed": 314,
     "status": "ok",
     "timestamp": 1613603275614,
     "user": {
      "displayName": "Mehmet Topsakal",
      "photoUrl": "",
      "userId": "09508476659065132860"
     },
     "user_tz": 300
    },
    "id": "7yrBfLYNgqtS",
    "outputId": "f937d9c7-712e-4354-a889-e1e9c044ba40"
   },
   "outputs": [
    {
     "name": "stdout",
     "output_type": "stream",
     "text": [
      "/content/drive/My Drive/code/_jupyter-notebooks/calc_feff/v3/NiCl2\n"
     ]
    }
   ],
   "source": [
    "cd .."
   ]
  },
  {
   "cell_type": "code",
   "execution_count": 1,
   "metadata": {
    "ExecuteTime": {
     "end_time": "2017-10-31T14:13:02.726950Z",
     "start_time": "2017-10-31T14:13:02.102195Z"
    },
    "executionInfo": {
     "elapsed": 209,
     "status": "ok",
     "timestamp": 1613603489128,
     "user": {
      "displayName": "Mehmet Topsakal",
      "photoUrl": "",
      "userId": "09508476659065132860"
     },
     "user_tz": 300
    },
    "id": "VzvChf2_4vHq"
   },
   "outputs": [],
   "source": [
    "import numpy as np\n",
    "import os,sys\n",
    "import subprocess as sp \n",
    "\n",
    "from pymatgen import MPRester\n",
    "mpr = MPRester('gI8Qmxe9AnkbTvNd')  # here I put my API key to access MP\n",
    "from pymatgen.core.periodic_table import Element\n",
    "\n",
    "import shutil\n",
    "\n",
    "from numpy import linalg as LA\n",
    "from scipy.interpolate import InterpolatedUnivariateSpline\n",
    "\n",
    "from pylab import *\n",
    "from matplotlib import gridspec\n",
    "from matplotlib import pyplot as plt\n",
    "from mpl_toolkits.axes_grid1.inset_locator import inset_axes, zoomed_inset_axes\n",
    "from matplotlib import gridspec\n",
    "\n",
    "%matplotlib inline"
   ]
  },
  {
   "cell_type": "code",
   "execution_count": 2,
   "metadata": {
    "executionInfo": {
     "elapsed": 312,
     "status": "ok",
     "timestamp": 1613603490544,
     "user": {
      "displayName": "Mehmet Topsakal",
      "photoUrl": "",
      "userId": "09508476659065132860"
     },
     "user_tz": 300
    },
    "id": "CYTRth9GRCtQ"
   },
   "outputs": [],
   "source": [
    "%run -i functions.py"
   ]
  },
  {
   "cell_type": "code",
   "execution_count": 3,
   "metadata": {
    "ExecuteTime": {
     "end_time": "2017-10-31T14:13:04.451419Z",
     "start_time": "2017-10-31T14:13:04.439965Z"
    },
    "executionInfo": {
     "elapsed": 307,
     "status": "ok",
     "timestamp": 1613603491317,
     "user": {
      "displayName": "Mehmet Topsakal",
      "photoUrl": "",
      "userId": "09508476659065132860"
     },
     "user_tz": 300
    },
    "id": "mxnANR0u4vHw"
   },
   "outputs": [],
   "source": [
    "ca='Ni'           # scattering ion symbol\n",
    "\n",
    "rFMS=8.0          # FMS radius in FEFF calculation\n",
    "rSCF=6.0          # SCF radius in FEFF calculation\n",
    "corehole='RPA'    # core-hole treatment\n",
    "\n",
    "nmax=20           # this will be used to determine inequivalent ions of structure\n",
    "                  # 50-80 is usually enough."
   ]
  },
  {
   "cell_type": "code",
   "execution_count": 4,
   "metadata": {
    "colab": {
     "base_uri": "https://localhost:8080/",
     "height": 358
    },
    "executionInfo": {
     "elapsed": 317,
     "status": "error",
     "timestamp": 1613603494319,
     "user": {
      "displayName": "Mehmet Topsakal",
      "photoUrl": "",
      "userId": "09508476659065132860"
     },
     "user_tz": 300
    },
    "id": "g-EducB4-n-i",
    "outputId": "8701dfae-151c-4c69-d990-737de0acf57a"
   },
   "outputs": [
    {
     "name": "stdout",
     "output_type": "stream",
     "text": [
      "[(6, 1369), (7, 1348), (8, 1348)] $Cl_{6}Ni_{3}$\n"
     ]
    }
   ],
   "source": [
    "# or use the one here\n",
    "\n",
    "sgr_list, formula = get_sgr_list(ca,nmax) \n",
    "print(sgr_list, formula)"
   ]
  },
  {
   "cell_type": "code",
   "execution_count": 5,
   "metadata": {
    "id": "qO-KmWATRCtS"
   },
   "outputs": [],
   "source": [
    "sgr_list = [(6, 1348), (7, 1348), (8, 1348)]"
   ]
  },
  {
   "cell_type": "code",
   "execution_count": 6,
   "metadata": {
    "id": "L0a40XD3RCtS"
   },
   "outputs": [],
   "source": [
    "n = 0\n",
    "mm = [n]\n",
    "cc = [sgr_list[0][1]]\n",
    "for i,s in enumerate(sgr_list[1:]):\n",
    "    if s[1] in cc:\n",
    "        ind = cc.index(s[1])\n",
    "        mm.append(ind)\n",
    "    else:\n",
    "        n = n + 1\n",
    "        mm.append(n)\n",
    "        cc.append(s[1])\n",
    "\n",
    "all_list = []\n",
    "for i,s in enumerate(sgr_list):\n",
    "    all_list.append([s[0],mm[i]])"
   ]
  },
  {
   "cell_type": "code",
   "execution_count": null,
   "metadata": {
    "id": "hvyrlb_3RCtT"
   },
   "outputs": [],
   "source": []
  },
  {
   "cell_type": "markdown",
   "metadata": {
    "id": "OU5arsmpRCtT"
   },
   "source": [
    "# Put FEFF inputs"
   ]
  },
  {
   "cell_type": "code",
   "execution_count": 7,
   "metadata": {
    "ExecuteTime": {
     "end_time": "2017-10-02T18:26:48.949239Z",
     "start_time": "2017-10-02T18:26:48.847275Z"
    },
    "colab": {
     "base_uri": "https://localhost:8080/",
     "height": 589
    },
    "executionInfo": {
     "elapsed": 284,
     "status": "error",
     "timestamp": 1613603236372,
     "user": {
      "displayName": "Mehmet Topsakal",
      "photoUrl": "",
      "userId": "09508476659065132860"
     },
     "user_tz": 300
    },
    "id": "WNZXL-KF4vH6",
    "outputId": "3e2a8fb7-27ed-430f-f881-0ffbae26f097"
   },
   "outputs": [
    {
     "data": {
      "text/plain": [
       "['/data/lt/gd/code/_jupyter-notebooks/calc_feff/v3/NiCl2/at-007']"
      ]
     },
     "execution_count": 7,
     "metadata": {},
     "output_type": "execute_result"
    }
   ],
   "source": [
    "%run -i functions.py\n",
    "\n",
    "def feff_inputs_putter():\n",
    "    folders_to_calc = []\n",
    "    done = []\n",
    "    for i in all_list:    \n",
    "        if i[1] not in done:    \n",
    "            f = 'at-'+'{:03d}'.format(i[0]+1)\n",
    "            os.makedirs(f,exist_ok=True)\n",
    "            os.chdir(f)\n",
    "            for_dist_plot, labels_short = write_feffinp(ca=i[0],\n",
    "                                                        dmax=10,\n",
    "                                                        rFMS=rFMS,\n",
    "                                                        rSCF=rSCF,\n",
    "                                                        corehole=corehole)\n",
    "            write_xyz(ca=i[0],dmax=10)\n",
    "            done.append(i[1])\n",
    "            folders_to_calc.append(os.getcwd())\n",
    "            os.chdir('..')       \n",
    "    return folders_to_calc\n",
    "\n",
    "flist = feff_inputs_putter()\n",
    "flist"
   ]
  },
  {
   "cell_type": "code",
   "execution_count": 8,
   "metadata": {
    "executionInfo": {
     "elapsed": 235,
     "status": "ok",
     "timestamp": 1613603513052,
     "user": {
      "displayName": "Mehmet Topsakal",
      "photoUrl": "",
      "userId": "09508476659065132860"
     },
     "user_tz": 300
    },
    "id": "LD-n1Rs0Q3is"
   },
   "outputs": [],
   "source": [
    "flist = ['at-007']"
   ]
  },
  {
   "cell_type": "markdown",
   "metadata": {
    "id": "dmLYMegnRCtT"
   },
   "source": [
    "# Run FEFF calculations"
   ]
  },
  {
   "cell_type": "code",
   "execution_count": 42,
   "metadata": {
    "colab": {
     "base_uri": "https://localhost:8080/"
    },
    "executionInfo": {
     "elapsed": 940117,
     "status": "ok",
     "timestamp": 1613604456774,
     "user": {
      "displayName": "Mehmet Topsakal",
      "photoUrl": "",
      "userId": "09508476659065132860"
     },
     "user_tz": 300
    },
    "id": "FUmf2YRFRCtT",
    "outputId": "9dc833c2-7cd1-4a52-911e-6b6dac289165"
   },
   "outputs": [
    {
     "name": "stdout",
     "output_type": "stream",
     "text": [
      "Doing at-007\n",
      "Wed Feb 17 23:11:57 UTC 2021\n",
      "Note: The following floating-point exceptions are signalling: IEEE_UNDERFLOW_FLAG IEEE_DENORMAL\n",
      "Wed Feb 17 23:27:36 UTC 2021\n"
     ]
    }
   ],
   "source": [
    "here = os.getcwd()\n",
    "for f in flist:\n",
    "    os.chdir(f)\n",
    "    print('Doing %s'%(f))\n",
    "    !/content/drive/MyDrive/_others/Colab-stuff/FEFF-on-colab-1/bin/feff.sh\n",
    "    os.chdir(here)"
   ]
  },
  {
   "cell_type": "code",
   "execution_count": 9,
   "metadata": {
    "id": "98KOlV8WRCtU"
   },
   "outputs": [],
   "source": [
    "calculated = []\n",
    "xmus_calculated = []\n",
    "atoms_calculated = []\n",
    "for i in all_list:    \n",
    "    if i[1] not in calculated:    \n",
    "        f = 'at-'+'{:03d}'.format(i[0]+1)\n",
    "        os.chdir(f)\n",
    "        for_dist_plot, labels_short = write_feffinp(ca=i[0],dmax=10,rFMS=rFMS,rSCF=rSCF,corehole=corehole)\n",
    "        xmu = np.loadtxt('xmu.dat', unpack=True, comments='#', usecols=(0,3), skiprows=0)\n",
    "        xmus_calculated.append(xmu)    \n",
    "        atoms_calculated.append([for_dist_plot, labels_short, i[0]+1])        \n",
    "        calculated.append(i[1])\n",
    "        os.chdir('..') "
   ]
  },
  {
   "cell_type": "code",
   "execution_count": null,
   "metadata": {
    "id": "ILM1XiGZRCtU"
   },
   "outputs": [],
   "source": []
  },
  {
   "cell_type": "code",
   "execution_count": 10,
   "metadata": {
    "id": "j9LpJbHxRCtU"
   },
   "outputs": [],
   "source": [
    "# calculate occurance of atoms \n",
    "la = array(all_list)\n",
    "la = list(la[:,1])\n",
    "occ_list = []\n",
    "for i in calculated:\n",
    "    occ_list.append(la.count(i))    \n",
    "\n",
    "        \n",
    "# find boundaries\n",
    "e_lowers =[]\n",
    "e_uppers =[]\n",
    "for i in xmus_calculated:\n",
    "    e_lowers.append(i[0][0])\n",
    "    e_uppers.append(i[0][-1]) \n",
    "e_lower = max(e_lowers)\n",
    "e_upper = min(e_uppers)\n",
    "e_int = np.arange(e_lower, e_upper, 0.2)  \n",
    "\n",
    "# interpolate xmus\n",
    "xmus_calculated_int = []\n",
    "for i in xmus_calculated:\n",
    "    f = InterpolatedUnivariateSpline(i[0],i[1])\n",
    "    i_int = f(e_int)\n",
    "    xmus_calculated_int.append([e_int,i_int])\n",
    "    \n",
    "# weight-averaged total XAS\n",
    "xmu_total = xmus_calculated_int[0][1]*0\n",
    "for a,i in enumerate(all_list):\n",
    "    ind = calculated.index(i[1])\n",
    "    xmu_total = xmu_total + xmus_calculated_int[ind][1]  \n",
    "xmu_total = xmu_total/len(all_list)"
   ]
  },
  {
   "cell_type": "code",
   "execution_count": null,
   "metadata": {
    "id": "GTP_AIjvRCtV"
   },
   "outputs": [],
   "source": []
  },
  {
   "cell_type": "code",
   "execution_count": 11,
   "metadata": {
    "ExecuteTime": {
     "end_time": "2017-10-02T18:26:53.859536Z",
     "start_time": "2017-10-02T18:26:52.157491Z"
    },
    "colab": {
     "base_uri": "https://localhost:8080/",
     "height": 382
    },
    "executionInfo": {
     "elapsed": 2310,
     "status": "ok",
     "timestamp": 1612534269878,
     "user": {
      "displayName": "Mehmet Topsakal",
      "photoUrl": "",
      "userId": "09508476659065132860"
     },
     "user_tz": 300
    },
    "id": "CzQpnadz4vH7",
    "outputId": "d44f10ea-5da0-48dc-f541-3a964846fcf9"
   },
   "outputs": [
    {
     "data": {
      "image/png": "[encoded data removed]",
      "text/plain": [
       "<Figure size 864x378 with 3 Axes>"
      ]
     },
     "metadata": {
      "needs_background": "light"
     },
     "output_type": "display_data"
    }
   ],
   "source": [
    "fig = plt.figure(figsize=(12,5+len(atoms_calculated)/4))\n",
    "\n",
    "gs1 = gridspec.GridSpec(1, 2, width_ratios=[2,3] )\n",
    "gs1.update(top=0.95, bottom=0.1, left=0.07, right=0.97, wspace=0.05, hspace=0.05)\n",
    "\n",
    "gs2 = gridspec.GridSpec(1, 2, width_ratios=[2,3] )\n",
    "gs2.update(top=0.85, bottom=0.1, left=0.02, right=0.97, wspace=0.3, hspace=0.05)\n",
    "\n",
    "\n",
    "ax=fig.add_subplot(gs1[0])\n",
    "inset_ax = inset_axes(ax, width=\"50%\", height=\"40%\", loc=4)\n",
    "\n",
    "s=0\n",
    "for i in atoms_calculated:   \n",
    "    ds = np.array(i[0])\n",
    "    ax.plot(ds[0:20,0]+s,'k-')    \n",
    "    for i,d in enumerate(ds):\n",
    "        if i < 20: ax.plot( i, d[0]+s, 'oC'+str(int(d[1])) )   \n",
    "        if i < 20: inset_ax.plot( i, d[0], 'oC'+str(int(d[1])) )   \n",
    "    s += 1 \n",
    "    \n",
    "plt.xticks(visible=False)\n",
    "        \n",
    "for i in atoms_calculated[0][1]:\n",
    "    ax.plot(19,0,'o',label=i)\n",
    "    \n",
    "s = 0          \n",
    "for i in range(len(atoms_calculated)):\n",
    "    ax.annotate(ca+str(atoms_calculated[i][2])+' ('+str(occ_list[i])+')',(-2.9,s), fontsize=8)\n",
    "    s += 1    \n",
    "    \n",
    "ax.legend(loc='upper left',fontsize=12,ncol=5) \n",
    "ax.set_xticks(range(1,20))\n",
    "\n",
    "ax.set_xlim([-3,20])  \n",
    "ax.set_xlabel('Neighbour index #')\n",
    "ax.set_ylabel('Distance to scattering atom ($\\AA$)')    \n",
    "    \n",
    "\n",
    "       \n",
    "ax=fig.add_subplot(gs2[1])\n",
    "ax.plot(e_int,xmu_total,'k-')\n",
    "s=1\n",
    "for i in xmus_calculated_int:\n",
    "    ax.plot(i[0],s+i[1],'-')\n",
    "    s = s + 0.4 \n",
    "    \n",
    "s = 1          \n",
    "for i in range(len(atoms_calculated)):\n",
    "    ax.annotate(ca+str(atoms_calculated[i][2]),(e_int[0]-4,s), fontsize=8)\n",
    "    s += 0.4     \n",
    "\n",
    "ax.set_xlabel('Energy (eV)')\n",
    "ax.set_ylabel('Normalized $\\mu$(E)')     \n",
    "ax.set_xlim([e_int[0]-6,e_int[-1]+2])  \n",
    "\n",
    "textstr = '%s; scattering_atom=%s \\n corehole=%s; rFMS=%.2f; rSCF=%.2f; nmax=%d'%(formula, ca, corehole, rFMS, rSCF, nmax)\n",
    "props = dict(boxstyle='round', facecolor='wheat', alpha=0.5)    \n",
    "ax.text(0.10, 1.14, textstr, transform=ax.transAxes, fontsize=12,\n",
    "        verticalalignment='top', bbox=props)\n",
    "    \n",
    "savefig('feff.png', format='png', dpi=300)    "
   ]
  },
  {
   "cell_type": "code",
   "execution_count": 12,
   "metadata": {
    "ExecuteTime": {
     "end_time": "2017-10-02T18:27:50.086704Z",
     "start_time": "2017-10-02T18:27:50.014364Z"
    },
    "colab": {
     "base_uri": "https://localhost:8080/"
    },
    "executionInfo": {
     "elapsed": 1049,
     "status": "ok",
     "timestamp": 1612534279105,
     "user": {
      "displayName": "Mehmet Topsakal",
      "photoUrl": "",
      "userId": "09508476659065132860"
     },
     "user_tz": 300
    },
    "id": "wkX1VzoP4vH8",
    "outputId": "3a678f9b-5c6d-4a5e-a9a6-796657400d60"
   },
   "outputs": [],
   "source": [
    "folders = [f for f in os.listdir() if os.path.isdir(f)]\n",
    "os.makedirs('feff',exist_ok=True)\n",
    "for f in folders:\n",
    "    if f[0:3] == 'at-': shutil.move(f, 'feff')\n",
    "    \n",
    "np.save('./feff/_xmus_calculated', xmus_calculated)    \n",
    "np.save('./feff/_xmus_calculated_int', xmus_calculated_int)      \n",
    "np.save('./feff/_atoms_calculated', atoms_calculated) \n",
    "np.save('./feff/_e_int', e_int) \n",
    "np.save('./feff/_xmu_total', xmu_total) \n",
    "np.save('./feff/_all_list', all_list) \n",
    "\n",
    "shutil.make_archive('feff', 'zip', 'feff')\n",
    "# shutil.move('feff.zip', 'feff.npz')\n",
    "\n",
    "shutil.rmtree('feff', ignore_errors=True)"
   ]
  },
  {
   "cell_type": "code",
   "execution_count": null,
   "metadata": {
    "id": "4F-wfyu8CUka"
   },
   "outputs": [],
   "source": []
  },
  {
   "cell_type": "code",
   "execution_count": null,
   "metadata": {
    "id": "5nC0xRFJCUnI"
   },
   "outputs": [],
   "source": []
  }
 ],
 "metadata": {
  "colab": {
   "collapsed_sections": [],
   "name": "notebook.ipynb",
   "provenance": [],
   "toc_visible": true
  },
  "kernelspec": {
   "display_name": "Python 3",
   "language": "python",
   "name": "python3"
  },
  "language_info": {
   "codemirror_mode": {
    "name": "ipython",
    "version": 3
   },
   "file_extension": ".py",
   "mimetype": "text/x-python",
   "name": "python",
   "nbconvert_exporter": "python",
   "pygments_lexer": "ipython3",
   "version": "3.7.7"
  },
  "widgets": {
   "application/vnd.jupyter.widget-state+json": {
    "state": {},
    "version_major": 2,
    "version_minor": 0
   }
  }
 },
 "nbformat": 4,
 "nbformat_minor": 4
}
