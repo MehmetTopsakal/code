{
 "cells": [
  {
   "cell_type": "code",
   "execution_count": 1,
   "metadata": {
    "ExecuteTime": {
     "end_time": "2017-07-15T11:20:49.403422Z",
     "start_time": "2017-07-15T11:20:49.139472Z"
    },
    "collapsed": true
   },
   "outputs": [],
   "source": [
    "%matplotlib notebook\n",
    "# %autosave 10\n",
    "# %lsmagic\n",
    "# print(plt.style.available)\n",
    "\n",
    "import numpy as np\n",
    "from pylab import *\n",
    "from matplotlib import gridspec\n",
    "from matplotlib import pyplot as plt\n",
    "import subprocess, os"
   ]
  },
  {
   "cell_type": "markdown",
   "metadata": {},
   "source": [
    " "
   ]
  },
  {
   "cell_type": "markdown",
   "metadata": {},
   "source": [
    "#<span class=\"mark\">read QE</span>"
   ]
  },
  {
   "cell_type": "code",
   "execution_count": 2,
   "metadata": {
    "ExecuteTime": {
     "end_time": "2017-07-15T11:20:51.469399Z",
     "start_time": "2017-07-15T11:20:51.466073Z"
    }
   },
   "outputs": [],
   "source": [
    "os.chdir('rocksalt')"
   ]
  },
  {
   "cell_type": "code",
   "execution_count": 3,
   "metadata": {
    "ExecuteTime": {
     "end_time": "2017-07-15T11:20:53.838007Z",
     "start_time": "2017-07-15T11:20:52.618576Z"
    }
   },
   "outputs": [
    {
     "name": "stdout",
     "output_type": "stream",
     "text": [
      "nscf.out\n",
      "NO DOS here !!!\n"
     ]
    }
   ],
   "source": [
    "import mQE\n",
    "mQE.readqe()"
   ]
  },
  {
   "cell_type": "code",
   "execution_count": null,
   "metadata": {
    "collapsed": true
   },
   "outputs": [],
   "source": []
  }
 ],
 "metadata": {
  "kernelspec": {
   "display_name": "Python 3",
   "language": "python",
   "name": "python3"
  },
  "language_info": {
   "codemirror_mode": {
    "name": "ipython",
    "version": 3
   },
   "file_extension": ".py",
   "mimetype": "text/x-python",
   "name": "python",
   "nbconvert_exporter": "python",
   "pygments_lexer": "ipython3",
   "version": "3.6.1"
  }
 },
 "nbformat": 4,
 "nbformat_minor": 2
}
