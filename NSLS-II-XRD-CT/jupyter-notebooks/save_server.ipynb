{
 "cells": [
  {
   "cell_type": "code",
   "execution_count": null,
   "metadata": {},
   "outputs": [
    {
     "name": "stdout",
     "output_type": "stream",
     "text": [
      "Saving file to /nsls2/xf28id2/xpdd/xpdUser/tiff_base/LaB6/meta/LaB6_20190903-084409_16ed28.yaml\n",
      "Saving file to /nsls2/xf28id2/xpdd/xpdUser/tiff_base/Setup/meta/Setup_20190903-084527_772b62.yaml\n",
      "Saving file to /nsls2/xf28id2/xpdd/xpdUser/tiff_base/LaB6/meta/LaB6_20190903-084529_bc2349.yaml\n",
      "Saving file to /nsls2/xf28id2/xpdd/xpdUser/tiff_base/LaB6/meta/LaB6_20190903-084728_e7525c.yaml\n"
     ]
    }
   ],
   "source": [
    "! save_server"
   ]
  },
  {
   "cell_type": "code",
   "execution_count": null,
   "metadata": {},
   "outputs": [],
   "source": []
  }
 ],
 "metadata": {
  "kernelspec": {
   "display_name": "collection-2019-3.0-xpdd.local",
   "language": "python",
   "name": "collection-2019-3.0-xpdd.local"
  },
  "language_info": {
   "codemirror_mode": {
    "name": "ipython",
    "version": 3
   },
   "file_extension": ".py",
   "mimetype": "text/x-python",
   "name": "python",
   "nbconvert_exporter": "python",
   "pygments_lexer": "ipython3",
   "version": "3.7.3"
  }
 },
 "nbformat": 4,
 "nbformat_minor": 2
}
