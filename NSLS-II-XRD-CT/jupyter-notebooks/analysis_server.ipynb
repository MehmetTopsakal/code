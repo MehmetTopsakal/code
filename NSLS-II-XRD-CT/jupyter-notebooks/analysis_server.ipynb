{
 "cells": [
  {
   "cell_type": "code",
   "execution_count": null,
   "metadata": {},
   "outputs": [
    {
     "name": "stdout",
     "output_type": "stream",
     "text": [
      "analyzing as diffraction\n",
      "No dark found!\n",
      "START ANALYSIS ON e7525cd3-fb56-4072-ba35-6aad29b1438c\n",
      "[Errno 2] No such file or directory: '/nsls2/xf28id2/dex_data/2019/09/03/a366558a-1d70-4b59-9a1d_000001.tiff'\n",
      "Traceback (most recent call last):\n",
      "  File \"/home/mtopsakal/conda_envs/collection-2019-3.0-xpdd.local/lib/python3.7/site-packages/rapidz/core.py\", line 696, in update\n",
      "    result = self.func(*y, **self.kwargs)\n",
      "  File \"/home/mtopsakal/conda_envs/collection-2019-3.0-xpdd.local/lib/python3.7/site-packages/xpdan/vend/callbacks/core.py\", line 67, in __call__\n",
      "    ret = getattr(self, name)(doc)\n",
      "  File \"/home/mtopsakal/conda_envs/collection-2019-3.0-xpdd.local/lib/python3.7/site-packages/xpdan/vend/callbacks/core.py\", line 647, in event\n",
      "    ev = self.fill_event(doc, inplace=False)\n",
      "  File \"/home/mtopsakal/conda_envs/collection-2019-3.0-xpdd.local/lib/python3.7/site-packages/xpdan/vend/callbacks/core.py\", line 638, in fill_event\n",
      "    v = self.retrieve_datum(data[k])\n",
      "  File \"/home/mtopsakal/conda_envs/collection-2019-3.0-xpdd.local/lib/python3.7/site-packages/xpdan/vend/callbacks/core.py\", line 612, in retrieve_datum\n",
      "    return self.handlers[key](**doc[\"datum_kwargs\"])\n",
      "  File \"/home/mtopsakal/.local/lib/python3.7/site-packages/databroker-0.13.2-py3.7.egg/databroker/assets/handlers.py\", line 108, in __call__\n",
      "    with tifffile.TiffFile(fn) as tif:\n",
      "  File \"/home/mtopsakal/.local/lib/python3.7/site-packages/tifffile-2019.7.26-py3.7.egg/tifffile/tifffile.py\", line 2228, in __init__\n",
      "    fh = FileHandle(arg, mode='rb', name=name, offset=offset, size=size)\n",
      "  File \"/home/mtopsakal/.local/lib/python3.7/site-packages/tifffile-2019.7.26-py3.7.egg/tifffile/tifffile.py\", line 6031, in __init__\n",
      "    self.open()\n",
      "  File \"/home/mtopsakal/.local/lib/python3.7/site-packages/tifffile-2019.7.26-py3.7.egg/tifffile/tifffile.py\", line 6044, in open\n",
      "    self._fh = open(self._file, self._mode)\n",
      "FileNotFoundError: [Errno 2] No such file or directory: '/nsls2/xf28id2/dex_data/2019/09/03/a366558a-1d70-4b59-9a1d_000001.tiff'\n",
      "Exception in callback Dispatcher.process(<DocumentNames.event: 'event'>, {'data': {'dexela_image': '6531993d-817...3c8cbd37697/0'}, 'descriptor': '96d84847-5cb...-db2d93babce3', 'filled': {'dexela_image': False}, 'seq_num': 1, ...})\n",
      "handle: <Handle Dispatcher.process(<DocumentNames.event: 'event'>, {'data': {'dexela_image': '6531993d-817...3c8cbd37697/0'}, 'descriptor': '96d84847-5cb...-db2d93babce3', 'filled': {'dexela_image': False}, 'seq_num': 1, ...})>\n",
      "Traceback (most recent call last):\n",
      "  File \"/home/mtopsakal/conda_envs/collection-2019-3.0-xpdd.local/lib/python3.7/asyncio/events.py\", line 88, in _run\n",
      "    self._context.run(self._callback, *self._args)\n",
      "  File \"/home/mtopsakal/conda_envs/collection-2019-3.0-xpdd.local/lib/python3.7/site-packages/bluesky/run_engine.py\", line 2341, in process\n",
      "    exceptions = self.cb_registry.process(name, name.name, doc)\n",
      "  File \"/home/mtopsakal/conda_envs/collection-2019-3.0-xpdd.local/lib/python3.7/site-packages/bluesky/utils.py\", line 334, in process\n",
      "    func(*args, **kwargs)\n",
      "  File \"/home/mtopsakal/conda_envs/collection-2019-3.0-xpdd.local/lib/python3.7/site-packages/bluesky/utils.py\", line 415, in __call__\n",
      "    return mtd(*args, **kwargs)\n",
      "  File \"/home/mtopsakal/conda_envs/collection-2019-3.0-xpdd.local/lib/python3.7/site-packages/xpdan/vend/callbacks/core.py\", line 67, in __call__\n",
      "    ret = getattr(self, name)(doc)\n",
      "  File \"/home/mtopsakal/conda_envs/collection-2019-3.0-xpdd.local/lib/python3.7/site-packages/xpdan/vend/callbacks/core.py\", line 482, in event\n",
      "    cb(\"event\", doc)\n",
      "  File \"/home/mtopsakal/conda_envs/collection-2019-3.0-xpdd.local/lib/python3.7/site-packages/xpdan/startup/analysis_server.py\", line 158, in <lambda>\n",
      "    return lambda *x: xrd_namespace[\"raw_source\"].emit(x)\n",
      "  File \"/home/mtopsakal/conda_envs/collection-2019-3.0-xpdd.local/lib/python3.7/site-packages/rapidz/core.py\", line 397, in emit\n",
      "    result = self._emit(x)\n",
      "  File \"/home/mtopsakal/conda_envs/collection-2019-3.0-xpdd.local/lib/python3.7/site-packages/rapidz/core.py\", line 378, in _emit\n",
      "    r = downstream.update(x, who=self)\n",
      "  File \"/home/mtopsakal/conda_envs/collection-2019-3.0-xpdd.local/lib/python3.7/site-packages/rapidz/core.py\", line 1144, in update\n",
      "    return self._emit(tup)\n",
      "  File \"/home/mtopsakal/conda_envs/collection-2019-3.0-xpdd.local/lib/python3.7/site-packages/rapidz/core.py\", line 378, in _emit\n",
      "    r = downstream.update(x, who=self)\n",
      "  File \"/home/mtopsakal/conda_envs/collection-2019-3.0-xpdd.local/lib/python3.7/site-packages/rapidz/core.py\", line 741, in update\n",
      "    return self._emit(x)\n",
      "  File \"/home/mtopsakal/conda_envs/collection-2019-3.0-xpdd.local/lib/python3.7/site-packages/rapidz/core.py\", line 378, in _emit\n",
      "    r = downstream.update(x, who=self)\n",
      "  File \"/home/mtopsakal/conda_envs/collection-2019-3.0-xpdd.local/lib/python3.7/site-packages/rapidz/core.py\", line 1296, in update\n",
      "    return self._emit(x[self.pick])\n",
      "  File \"/home/mtopsakal/conda_envs/collection-2019-3.0-xpdd.local/lib/python3.7/site-packages/rapidz/core.py\", line 378, in _emit\n",
      "    r = downstream.update(x, who=self)\n",
      "  File \"/home/mtopsakal/conda_envs/collection-2019-3.0-xpdd.local/lib/python3.7/site-packages/rapidz/core.py\", line 696, in update\n",
      "    result = self.func(*y, **self.kwargs)\n",
      "  File \"/home/mtopsakal/conda_envs/collection-2019-3.0-xpdd.local/lib/python3.7/site-packages/xpdan/vend/callbacks/core.py\", line 67, in __call__\n",
      "    ret = getattr(self, name)(doc)\n",
      "  File \"/home/mtopsakal/conda_envs/collection-2019-3.0-xpdd.local/lib/python3.7/site-packages/xpdan/vend/callbacks/core.py\", line 647, in event\n",
      "    ev = self.fill_event(doc, inplace=False)\n",
      "  File \"/home/mtopsakal/conda_envs/collection-2019-3.0-xpdd.local/lib/python3.7/site-packages/xpdan/vend/callbacks/core.py\", line 638, in fill_event\n",
      "    v = self.retrieve_datum(data[k])\n",
      "  File \"/home/mtopsakal/conda_envs/collection-2019-3.0-xpdd.local/lib/python3.7/site-packages/xpdan/vend/callbacks/core.py\", line 612, in retrieve_datum\n",
      "    return self.handlers[key](**doc[\"datum_kwargs\"])\n",
      "  File \"/home/mtopsakal/.local/lib/python3.7/site-packages/databroker-0.13.2-py3.7.egg/databroker/assets/handlers.py\", line 108, in __call__\n",
      "    with tifffile.TiffFile(fn) as tif:\n",
      "  File \"/home/mtopsakal/.local/lib/python3.7/site-packages/tifffile-2019.7.26-py3.7.egg/tifffile/tifffile.py\", line 2228, in __init__\n",
      "    fh = FileHandle(arg, mode='rb', name=name, offset=offset, size=size)\n",
      "  File \"/home/mtopsakal/.local/lib/python3.7/site-packages/tifffile-2019.7.26-py3.7.egg/tifffile/tifffile.py\", line 6031, in __init__\n",
      "    self.open()\n",
      "  File \"/home/mtopsakal/.local/lib/python3.7/site-packages/tifffile-2019.7.26-py3.7.egg/tifffile/tifffile.py\", line 6044, in open\n",
      "    self._fh = open(self._file, self._mode)\n",
      "FileNotFoundError: [Errno 2] No such file or directory: '/nsls2/xf28id2/dex_data/2019/09/03/a366558a-1d70-4b59-9a1d_000001.tiff'\n",
      "FINISH ANALYSIS ON e7525cd3-fb56-4072-ba35-6aad29b1438c\n",
      "Average Event analysis time 0.0\n",
      "Analysis time 1.1975107192993164\n"
     ]
    }
   ],
   "source": [
    "! analysis_server"
   ]
  },
  {
   "cell_type": "code",
   "execution_count": null,
   "metadata": {},
   "outputs": [],
   "source": []
  }
 ],
 "metadata": {
  "kernelspec": {
   "display_name": "collection-2019-3.0-xpdd.local",
   "language": "python",
   "name": "collection-2019-3.0-xpdd.local"
  },
  "language_info": {
   "codemirror_mode": {
    "name": "ipython",
    "version": 3
   },
   "file_extension": ".py",
   "mimetype": "text/x-python",
   "name": "python",
   "nbconvert_exporter": "python",
   "pygments_lexer": "ipython3",
   "version": "3.7.3"
  }
 },
 "nbformat": 4,
 "nbformat_minor": 2
}
