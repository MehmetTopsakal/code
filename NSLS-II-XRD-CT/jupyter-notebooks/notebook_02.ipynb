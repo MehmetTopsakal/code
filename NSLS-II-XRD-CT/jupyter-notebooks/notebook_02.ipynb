{
 "cells": [
  {
   "cell_type": "code",
   "execution_count": 1,
   "metadata": {},
   "outputs": [],
   "source": [
    "import matplotlib\n",
    "matplotlib.use('nbAgg')"
   ]
  },
  {
   "cell_type": "code",
   "execution_count": 2,
   "metadata": {},
   "outputs": [
    {
     "name": "stdout",
     "output_type": "stream",
     "text": [
      "Overwriting /home/mtopsakal/.config/acq/xpdd.yml\n"
     ]
    }
   ],
   "source": [
    "%%writefile ~/.config/acq/xpdd.yml\n",
    "archive_base_dir_name: .userbeamtimearchive\n",
    "archive_root_dir: /nsls2/xf28id2/_xpdd\n",
    "base_dir: /nsls2/xf28id2/_xpdd\n",
    "beamline_host_name: [xf28id2-ws7, xf28id2-ws8]\n",
    "beamline_id: 28-id-2\n",
    "blconfig_dir_name: xpdConfig\n",
    "blconfig_name: xpd_beamline_config.yml\n",
    "calib_config_name: xpdAcq_calib_info.yml\n",
    "dark_window: 3000\n",
    "facility: NSLS-II\n",
    "frame_acquire_time: 0.1\n",
    "glbl_yaml_name: glbl.yml\n",
    "group: XPD\n",
    "home_dir_name: xpdUser\n",
    "image_field: pe2_image\n",
    "owner: XPD\n",
    "simulation: True\n",
    "shutter_conf: {close: 0, open: 60}\n",
    "mask_kwargs:\n",
    "  edge: 30\n",
    "  lower_thresh: 0.0\n",
    "  bs_width: 13\n",
    "  tri_offset: 13\n",
    "  v_asym: 0\n",
    "  alpha: 3.0\n",
    "dark_field_key : sc_dk_field_uid\n",
    "det_image_field : pe2_image\n",
    "exp_broker_name: xpdd\n",
    "outbound_proxy_address: 'xf28id-ca1:5578'\n",
    "inbound_proxy_address: 'xf28id-ca1:5577'\n",
    "#outbound_proxy_address: 'localhost:5578'\n",
    "#inbound_proxy_address: 'localhost:5577'\n",
    "shutter_sleep: 0\n",
    "image_fields: ['dexela_image', 'dexela']\n",
    "diffraction_dets: ['dexela_image', 'dexela']\n",
    "radiogram_dets: ['blackfly_det_image']\n",
    "radiograph_names: ['blackfly_det_image']"
   ]
  },
  {
   "cell_type": "code",
   "execution_count": 3,
   "metadata": {},
   "outputs": [
    {
     "name": "stdout",
     "output_type": "stream",
     "text": [
      "total 40\n",
      "-rw-rw-rw- 1 mtopsakal mtopsakal 1296 Aug 31 22:56 00-startup.py\n",
      "-rw-rw-rw- 1 mtopsakal mtopsakal 3260 Aug 31 22:56 10-motors.py\n",
      "-rw-rw-rw- 1 mtopsakal mtopsakal 3688 Aug 31 22:56 15-optics.py\n",
      "-rw-rw-rw- 1 mtopsakal mtopsakal 3325 Aug 31 22:56 25-cameras.py\n",
      "-rw-rw-rw- 1 mtopsakal mtopsakal 3042 Aug 31 22:56 81-dexela.py\n",
      "-rw-rw-rw- 1 mtopsakal mtopsakal 1464 Aug 31 22:56 82-blackfly.py\n",
      "-rw-rw-rw- 1 mtopsakal mtopsakal  252 Aug 31 22:56 9991-zmq.py\n",
      "-rw-rw-rw- 1 mtopsakal mtopsakal 2002 Sep  1 10:33 999-load.py\n",
      "-rw-rw-rw- 1 mtopsakal mtopsakal  371 Aug 31 22:56 README\n",
      "drwxrwxrwx 2 mtopsakal mtopsakal 4096 Aug 31 22:56 \u001b[0m\u001b[34;42mtrash\u001b[0m/\n"
     ]
    }
   ],
   "source": [
    "ls -l ~/.ipython/profile_collection/startup/"
   ]
  },
  {
   "cell_type": "code",
   "execution_count": 4,
   "metadata": {},
   "outputs": [
    {
     "name": "stdout",
     "output_type": "stream",
     "text": [
      "Loading metadata history from /home/mtopsakal/.config/bluesky/bluesky_history.db\n"
     ]
    },
    {
     "name": "stderr",
     "output_type": "stream",
     "text": [
      "/home/mtopsakal/conda_envs/collection-2019-3.0-xpdd.local/lib/python3.7/site-packages/dask/config.py:168: YAMLLoadWarning: calling yaml.load() without Loader=... is deprecated, as the default Loader is unsafe. Please read https://msg.pyyaml.org/load for full details.\n",
      "  data = yaml.load(f.read()) or {}\n",
      "/home/mtopsakal/conda_envs/collection-2019-3.0-xpdd.local/lib/python3.7/site-packages/epics/pv.py:110: UserWarning: The `context` kwarg for epics.get_pv() is deprecated. New PVs will _not_ be created in the requested context.\n",
      "  'The `context` kwarg for epics.get_pv() is deprecated. New PVs '\n"
     ]
    }
   ],
   "source": [
    "%run -i ~/.ipython/profile_collection/startup/00-startup.py\n",
    "%run -i ~/.ipython/profile_collection/startup/10-motors.py\n",
    "%run -i ~/.ipython/profile_collection/startup/15-optics.py\n",
    "%run -i ~/.ipython/profile_collection/startup/25-cameras.py\n",
    "%run -i ~/.ipython/profile_collection/startup/81-dexela.py\n",
    "%run -i ~/.ipython/profile_collection/startup/82-blackfly.py"
   ]
  },
  {
   "cell_type": "code",
   "execution_count": 5,
   "metadata": {},
   "outputs": [
    {
     "name": "stderr",
     "output_type": "stream",
     "text": [
      "/home/mtopsakal/conda_envs/collection-2019-3.0-xpdd.local/lib/python3.7/site-packages/xpdconf/conf.py:38: YAMLLoadWarning: calling yaml.load() without Loader=... is deprecated, as the default Loader is unsafe. Please read https://msg.pyyaml.org/load for full details.\n",
      "  d = yaml.load(f)\n",
      "/home/mtopsakal/conda_envs/collection-2019-3.0-xpdd.local/lib/python3.7/site-packages/ophyd/sim.py:671: UserWarning: The parameter 'reg' is deprecated. It will be ignored. In a future release the parameter will be removed and passing a value for 'reg' will raise an error.\n",
      "  warnings.warn(\"The parameter 'reg' is deprecated. It will be \"\n",
      "/home/mtopsakal/conda_envs/collection-2019-3.0-xpdd.local/lib/python3.7/site-packages/xpdacq/xpdacq_conf.py:130: YAMLLoadWarning: calling yaml.load() without Loader=... is deprecated, as the default Loader is unsafe. Please read https://msg.pyyaml.org/load for full details.\n",
      "  reload_dict = yaml.load(f)\n",
      "/home/mtopsakal/conda_envs/collection-2019-3.0-xpdd.local/lib/python3.7/site-packages/xpdacq/beamtimeSetup.py:200: YAMLLoadWarning: calling yaml.load() without Loader=... is deprecated, as the default Loader is unsafe. Please read https://msg.pyyaml.org/load for full details.\n",
      "  data = yaml.load(f)\n",
      "/home/mtopsakal/conda_envs/collection-2019-3.0-xpdd.local/lib/python3.7/site-packages/xpdacq/beamtime.py:740: YAMLLoadWarning: calling yaml.load() without Loader=... is deprecated, as the default Loader is unsafe. Please read https://msg.pyyaml.org/load for full details.\n",
      "  d = yaml.load(f)\n",
      "/home/mtopsakal/conda_envs/collection-2019-3.0-xpdd.local/lib/python3.7/site-packages/xpdacq/beamtimeSetup.py:171: YAMLLoadWarning: calling yaml.load() without Loader=... is deprecated, as the default Loader is unsafe. Please read https://msg.pyyaml.org/load for full details.\n",
      "  scanplan_order = yaml.load(f)\n",
      "/home/mtopsakal/conda_envs/collection-2019-3.0-xpdd.local/lib/python3.7/site-packages/xpdacq/beamtime.py:1012: YAMLLoadWarning: calling yaml.load() without Loader=... is deprecated, as the default Loader is unsafe. Please read https://msg.pyyaml.org/load for full details.\n",
      "  map1, map2 = yaml.load(f)\n",
      "/home/mtopsakal/conda_envs/collection-2019-3.0-xpdd.local/lib/python3.7/site-packages/xpdacq/beamtimeSetup.py:183: YAMLLoadWarning: calling yaml.load() without Loader=... is deprecated, as the default Loader is unsafe. Please read https://msg.pyyaml.org/load for full details.\n",
      "  sample_order = yaml.load(f)\n",
      "/home/mtopsakal/conda_envs/collection-2019-3.0-xpdd.local/lib/python3.7/site-packages/xpdacq/beamtime.py:890: YAMLLoadWarning: calling yaml.load() without Loader=... is deprecated, as the default Loader is unsafe. Please read https://msg.pyyaml.org/load for full details.\n",
      "  map1, map2 = yaml.load(f)\n"
     ]
    },
    {
     "name": "stdout",
     "output_type": "stream",
     "text": [
      "INFO: Reload beamtime objects:\n",
      "\n",
      "ScanPlans:\n",
      "0: ct_5\n",
      "1: ct_0.1\n",
      "2: ct_1\n",
      "3: ct_10\n",
      "4: ct_30\n",
      "5: ct_60\n",
      "\n",
      "Samples:\n",
      "0: Setup\n",
      "1: LaB6\n",
      "2: CeO2\n",
      "3: Kapton\n",
      "\n"
     ]
    },
    {
     "name": "stderr",
     "output_type": "stream",
     "text": [
      "/home/mtopsakal/conda_envs/collection-2019-3.0-xpdd.local/lib/python3.7/site-packages/xpdacq/xpdacq_conf.py:100: YAMLLoadWarning: calling yaml.load() without Loader=... is deprecated, as the default Loader is unsafe. Please read https://msg.pyyaml.org/load for full details.\n",
      "  beamline_config = yaml.load(f)\n"
     ]
    },
    {
     "name": "stdout",
     "output_type": "stream",
     "text": [
      "INFO: area detector has been configured to new acquisition time (time per frame)  = 0.1s\n",
      "{'Verification time': '2019-09-01 10:34:26',\n",
      " 'Verified by': 'mt',\n",
      " 'hello': 'world'}\n"
     ]
    },
    {
     "name": "stdin",
     "output_type": "stream",
     "text": [
      "\n",
      "Is this configuration correct? y/n:  y\n",
      "Please input your initials:  mt\n"
     ]
    },
    {
     "name": "stderr",
     "output_type": "stream",
     "text": [
      "WARNING:pyFAI.gui.matplotlib:matplotlib already loaded, setting its backend may not work\n",
      "WARNING:silx.opencl.common:Unable to import pyOpenCl. Please install it from: http://pypi.python.org/pypi/pyopencl\n"
     ]
    },
    {
     "name": "stdout",
     "output_type": "stream",
     "text": [
      "INFO: beamtime object has been linked\n",
      "\n",
      "INFO: Initializing the XPD data acquisition environment\n",
      "\n",
      "OK, ready to go.  To continue, follow the steps in the xpdAcq\n",
      "documentation at http://xpdacq.github.io/xpdacq\n",
      "\n"
     ]
    }
   ],
   "source": [
    "\n",
    "import os\n",
    "from xpdacq.xpdacq_conf import (glbl_dict, configure_device,\n",
    "                                _reload_glbl, _set_glbl,\n",
    "                                _load_beamline_config)\n",
    "\n",
    "# configure experiment device being used in current version\n",
    "if glbl_dict['is_simulation']:\n",
    "    from xpdacq.simulation import (xpd_pe1c, db, cs700, shctl1,\n",
    "                                   ring_current, fb)\n",
    "    pe1c = xpd_pe1c # alias\n",
    "\n",
    "configure_device(area_det=dexela, shutter=shctl1,\n",
    "                 temp_controller=cs700, db=db,\n",
    "                 filter_bank=fb,\n",
    "                 ring_current=ring_current,\n",
    "                 )\n",
    "\n",
    "# cache previous glbl state\n",
    "reload_glbl_dict = _reload_glbl()\n",
    "from xpdacq.glbl import glbl\n",
    "\n",
    "# reload beamtime\n",
    "from xpdacq.beamtimeSetup import (start_xpdacq, _start_beamtime,\n",
    "                                  _end_beamtime)\n",
    "\n",
    "bt = start_xpdacq()\n",
    "if bt is not None:\n",
    "    print(\"INFO: Reload beamtime objects:\\n{}\\n\".format(bt))\n",
    "if reload_glbl_dict is not None:\n",
    "    _set_glbl(glbl, reload_glbl_dict)\n",
    "\n",
    "# import necessary modules\n",
    "from xpdacq.xpdacq import *\n",
    "from xpdacq.beamtime import *\n",
    "from xpdacq.utils import import_sample_info\n",
    "\n",
    "# instantiate xrun without beamtime, like bluesky setup\n",
    "xrun = CustomizedRunEngine(None)\n",
    "xrun.md['beamline_id'] = glbl['beamline_id']\n",
    "xrun.md['group'] = glbl['group']\n",
    "xrun.md['facility'] = glbl['facility']\n",
    "beamline_config = _load_beamline_config(glbl['blconfig_path'])\n",
    "xrun.md['beamline_config'] = beamline_config\n",
    "\n",
    "# insert header to db, either simulated or real\n",
    "xrun.subscribe(db.insert, 'all')\n",
    "\n",
    "if bt:\n",
    "    xrun.beamtime = bt\n",
    "\n",
    "HOME_DIR = glbl['home']\n",
    "BASE_DIR = glbl['base']\n",
    "\n",
    "print('INFO: Initializing the XPD data acquisition environment\\n')\n",
    "if os.path.isdir(HOME_DIR):\n",
    "    os.chdir(HOME_DIR)\n",
    "else:\n",
    "    os.chdir(BASE_DIR)\n",
    "\n",
    "from xpdacq.calib import *\n",
    "\n",
    "# analysis functions, only at beamline\n",
    "#from xpdan.data_reduction import *\n",
    "\n",
    "print('OK, ready to go.  To continue, follow the steps in the xpdAcq')\n",
    "print('documentation at http://xpdacq.github.io/xpdacq\\n')\n",
    "\n"
   ]
  },
  {
   "cell_type": "code",
   "execution_count": 6,
   "metadata": {},
   "outputs": [
    {
     "data": {
      "text/plain": [
       "'xf28id-ca1:5577'"
      ]
     },
     "execution_count": 6,
     "metadata": {},
     "output_type": "execute_result"
    }
   ],
   "source": [
    "glbl['inbound_proxy_address']"
   ]
  },
  {
   "cell_type": "code",
   "execution_count": 7,
   "metadata": {},
   "outputs": [],
   "source": [
    "%run -i ~/.ipython/profile_collection/startup/9991-zmq.py"
   ]
  },
  {
   "cell_type": "code",
   "execution_count": 8,
   "metadata": {},
   "outputs": [],
   "source": [
    "from bluesky.utils import install_nb_kicker"
   ]
  },
  {
   "cell_type": "code",
   "execution_count": 9,
   "metadata": {},
   "outputs": [
    {
     "name": "stdout",
     "output_type": "stream",
     "text": [
      "INFO: beamtime object has been linked\n",
      "\n"
     ]
    }
   ],
   "source": [
    "PI_name = 'Lynne Ecker'\n",
    "saf_num = 304490\n",
    "wavelength = 0.18088\n",
    "experimenters = [('Topsakal', 'Mehmet', 1),\n",
    "                 ('Sprouster ', 'David', 2)]\n",
    "\n",
    "#bt = _start_beamtime(PI_name, saf_num, experimenters, wavelength=wavelength)\n",
    "xrun.beamtime = bt"
   ]
  },
  {
   "cell_type": "code",
   "execution_count": 10,
   "metadata": {},
   "outputs": [
    {
     "data": {
      "text/plain": [
       "{'bt_piLast': 'Lynne_Ecker',\n",
       " 'bt_safN': '304490',\n",
       " 'bt_experimenters': [('Topsakal', 'Mehmet', 1), ('Sprouster ', 'David', 2)],\n",
       " 'bt_wavelength': 0.18088,\n",
       " 'bt_uid': '168774da'}"
      ]
     },
     "execution_count": 10,
     "metadata": {},
     "output_type": "execute_result"
    }
   ],
   "source": [
    "bt"
   ]
  },
  {
   "cell_type": "code",
   "execution_count": null,
   "metadata": {},
   "outputs": [],
   "source": []
  },
  {
   "cell_type": "code",
   "execution_count": 11,
   "metadata": {},
   "outputs": [
    {
     "name": "stdout",
     "output_type": "stream",
     "text": [
      "INFO: using SAF_number = 304490\n",
      "INFO: If you want to associate a background sample, e.g., empty kapton tube, with samples,\n",
      "place the sample-name of the background sample in the column ['sample-name_of_sample_background']\n",
      "of the sample excel spreadsheet.\n",
      "The following samples do not have background_samples associated with them\n",
      "(typically background samples won't have associated background samples):\n",
      "['Setup', 'LaB6', 'CeO2', 'Kapton']\n",
      "\n",
      "*** End of import Sample object ***\n"
     ]
    }
   ],
   "source": [
    "import_sample_info(saf_num, bt)"
   ]
  },
  {
   "cell_type": "code",
   "execution_count": 12,
   "metadata": {},
   "outputs": [
    {
     "name": "stdout",
     "output_type": "stream",
     "text": [
      "\n",
      "ScanPlans:\n",
      "0: ct_5\n",
      "1: ct_0.1\n",
      "2: ct_1\n",
      "3: ct_10\n",
      "4: ct_30\n",
      "5: ct_60\n",
      "\n",
      "Samples:\n",
      "0: Setup\n",
      "1: LaB6\n",
      "2: CeO2\n",
      "3: Kapton\n"
     ]
    }
   ],
   "source": [
    "bt.list()"
   ]
  },
  {
   "cell_type": "code",
   "execution_count": null,
   "metadata": {},
   "outputs": [],
   "source": []
  },
  {
   "cell_type": "code",
   "execution_count": 14,
   "metadata": {},
   "outputs": [],
   "source": [
    "# doesn't work\n",
    "# RE(bp.count([blackfly]))"
   ]
  },
  {
   "cell_type": "code",
   "execution_count": 15,
   "metadata": {},
   "outputs": [
    {
     "name": "stdout",
     "output_type": "stream",
     "text": [
      "Transient Scan ID: 49     Time: 2019-09-03 08:41:59\n",
      "Persistent Unique Scan ID: '54f25263-3945-4d80-8fd2-7acd68e2a00e'\n",
      "\n",
      "dexela [Complete.]                                                             \n",
      "                                                                               \n",
      "\u001b[ANew stream: 'primary'\n",
      "+-----------+------------+\n",
      "|   seq_num |       time |\n",
      "+-----------+------------+\n",
      "|         1 | 08:42:00.1 |\n",
      "+-----------+------------+\n",
      "generator count ['54f25263'] (scan num: 49)\n",
      "\n",
      "\n",
      "\n"
     ]
    },
    {
     "data": {
      "text/plain": [
       "('54f25263-3945-4d80-8fd2-7acd68e2a00e',)"
      ]
     },
     "execution_count": 15,
     "metadata": {},
     "output_type": "execute_result"
    }
   ],
   "source": [
    "RE(bp.count([dexela]))"
   ]
  },
  {
   "cell_type": "code",
   "execution_count": 17,
   "metadata": {},
   "outputs": [
    {
     "name": "stdout",
     "output_type": "stream",
     "text": [
      "INFO: requested exposure time = 5 - > computed exposure time= 0.1\n",
      "INFO: No calibration file found in config_base.\n",
      "Scan will still keep going on....\n",
      "INFO: Current filter status\n",
      "INFO: flt1 : In\n",
      "INFO: flt2 : Out\n",
      "INFO: flt3 : Out\n",
      "INFO: flt4 : Out\n",
      "+-----------+------------+\n",
      "|   seq_num |       time |\n",
      "+-----------+------------+\n",
      "|         1 | 08:44:10.1 |\n",
      "+-----------+------------+\n",
      "generator count ['16ed28c3'] (scan num: 2)\n"
     ]
    },
    {
     "data": {
      "text/plain": [
       "('16ed28c3-fce6-45ae-ac85-a618d4703e12',)"
      ]
     },
     "execution_count": 17,
     "metadata": {},
     "output_type": "execute_result"
    }
   ],
   "source": [
    "xrun(1,0)"
   ]
  },
  {
   "cell_type": "code",
   "execution_count": 25,
   "metadata": {},
   "outputs": [
    {
     "name": "stdout",
     "output_type": "stream",
     "text": [
      "INFO: requested exposure time = 5 - > computed exposure time= 0.1\n",
      "INFO: No calibration file found in config_base.\n",
      "Scan will still keep going on....\n",
      "INFO: Current filter status\n",
      "INFO: flt1 : In\n",
      "INFO: flt2 : Out\n",
      "INFO: flt3 : Out\n",
      "INFO: flt4 : Out\n",
      "+-----------+------------+\n",
      "|   seq_num |       time |\n",
      "+-----------+------------+\n",
      "|         1 | 23:50:33.6 |\n",
      "+-----------+------------+\n",
      "generator count ['d3796c91'] (scan num: 4)\n"
     ]
    },
    {
     "data": {
      "text/plain": [
       "('d3796c91-33a6-454a-84d4-392af08b6fa8',)"
      ]
     },
     "execution_count": 25,
     "metadata": {},
     "output_type": "execute_result"
    }
   ],
   "source": [
    "xrun(1,0)"
   ]
  },
  {
   "cell_type": "code",
   "execution_count": null,
   "metadata": {},
   "outputs": [],
   "source": []
  },
  {
   "cell_type": "code",
   "execution_count": 18,
   "metadata": {},
   "outputs": [
    {
     "name": "stdout",
     "output_type": "stream",
     "text": [
      "['th_cal', {'position': -36.91365624999999, 'pv': 'XF:28IDC-ES:1{Dif:2-Ax:Th}Mtr.RBV'}]\n",
      "['tth_cal', {'position': 0.0, 'pv': 'XF:28IDC-ES:1{Dif:2-Ax:2Th}Mtr.RBV'}]\n",
      "['ecal_x', {'position': 41.00000000000002, 'pv': 'XF:28IDC-ES:1{Dif:2-Ax:X}Mtr.RBV'}]\n",
      "['ecal_y', {'position': -34.0, 'pv': 'XF:28IDC-ES:1{Dif:2-Ax:Y}Mtr.RBV'}]\n",
      "['ss_stg2_x', {'position': 0.75, 'pv': 'XF:28IDC-ES:1{Stg:Smpl2-Ax:X}Mtr.RBV'}]\n",
      "['ss_stg2_y', {'position': 12.8, 'pv': 'XF:28IDC-ES:1{Stg:Smpl2-Ax:Y}Mtr.RBV'}]\n",
      "['ss_stg2_z', {'position': 18.0, 'pv': 'XF:28IDC-ES:1{Stg:Smpl2-Ax:Z}Mtr.RBV'}]\n",
      "['th', {'position': 140.0808410014, 'pv': 'XF:28IDC-ES:1{Dif:1-Ax:Th}Mtr.RBV'}]\n",
      "['tth', {'position': -34.999887796299994, 'pv': 'XF:28IDC-ES:1{Dif:1-Ax:2ThI}Mtr.RBV'}]\n",
      "['diff_x', {'position': 49.25, 'pv': 'XF:28IDC-ES:1{Dif:1-Ax:X}Mtr.RBV'}]\n",
      "['diff_y', {'position': 10.25, 'pv': 'XF:28IDC-ES:1{Dif:1-Ax:Y}Mtr.RBV'}]\n",
      "['diff_tth_i', {'position': -34.999887796299994, 'pv': 'XF:28IDC-ES:1{Dif:1-Ax:2ThI}Mtr.RBV'}]\n",
      "['diff_tth_o', {'position': 0.02865668256, 'pv': 'XF:28IDC-ES:1{Dif:1-Ax:2ThO}Mtr.RBV'}]\n",
      "['hrm_y', {'position': -8.999, 'pv': 'XF:28IDC-OP:1{Mono:HRM-Ax:Y}Mtr.RBV'}]\n",
      "['hrm_b', {'position': -0.0001475, 'pv': 'XF:28IDC-OP:1{Mono:HRM-Ax:P}Mtr.RBV'}]\n",
      "['hrm_r', {'position': 10.018452239999998, 'pv': 'XF:28IDC-OP:1{Mono:HRM-Ax:R}Mtr.RBV'}]\n",
      "['pe1_x', {'position': 393.70585937500005, 'pv': 'XF:28IDC-ES:1{Det:PE1-Ax:X}Mtr.RBV'}]\n",
      "['pe1_z', {'position': 280.99990625, 'pv': 'XF:28IDC-ES:1{Det:PE1-Ax:Z}Mtr.RBV'}]\n",
      "['shctl1', {}]\n",
      "['hth', {'position': 1.7096875, 'pv': 'XF:28IDD-ES:2{Stg:Stack-Ax:Hth}Mtr.RBV'}]\n",
      "['yb', {'position': -19.100353125, 'pv': 'XF:28IDD-ES:2{Stg:Stack-Ax:Ybase}Mtr.RBV'}]\n",
      "['xb', {'position': 7.75, 'pv': 'XF:28IDD-ES:2{Stg:Stack-Ax:Xbase}Mtr.RBV'}]\n",
      "['y', {'position': -4.0, 'pv': 'XF:28IDD-ES:2{Stg:Stack-Ax:Y}Mtr.RBV'}]\n",
      "['phi', {'position': 0.0, 'pv': 'XF:28IDD-ES:2{Stg:Stack-Ax:Phi}Mtr.RBV'}]\n",
      "['pitch', {'position': 23.194796875, 'pv': 'XF:28IDD-ES:2{Stg:Stack-Ax:Pitch}Mtr.RBV'}]\n",
      "['roll', {'position': 0.0, 'pv': 'XF:28IDD-ES:2{Stg:Stack-Ax:Roll}Mtr.RBV'}]\n",
      "['z', {'position': 1.0, 'pv': 'XF:28IDD-ES:2{Stg:Stack-Ax:Z}Mtr.RBV'}]\n",
      "['yfine', {'position': -4.0, 'pv': 'XF:28IDD-ES:2{Stg:Stack-Ax:Yfine}Mtr.RBV'}]\n",
      "['xfine', {'position': 0.25, 'pv': 'XF:28IDD-ES:2{Stg:Stack-Ax:Xfine}Mtr.RBV'}]\n",
      "['bsx', {'position': 225.65187500000002, 'pv': 'XF:28IDD-ES:2{BS-Ax:X}Mtr.RBV'}]\n",
      "['bsy', {'position': 5.9814375, 'pv': 'XF:28IDD-ES:2{BS-Ax:Y}Mtr.RBV'}]\n",
      "['sigx', {'position': 14.1, 'pv': 'XF:28IDD-ES:2{Stg:Sigray-Ax:X}Mtr.RBV'}]\n",
      "['sigy', {'position': 95.0, 'pv': 'XF:28IDD-ES:2{Stg:Sigray-Ax:Y}Mtr.RBV'}]\n",
      "['sigz', {'position': 4.5015625, 'pv': 'XF:28IDD-ES:2{Stg:Sigray-Ax:Z}Mtr.RBV'}]\n",
      "['sigp', {'position': -1.6, 'pv': 'XF:28IDD-ES:2{Stg:Sigray-Ax:Pitch}Mtr.RBV'}]\n",
      "['sigyaw', {'position': 3.8000000000000003, 'pv': 'XF:28IDD-ES:2{Stg:Sigray-Ax:Yaw}Mtr.RBV'}]\n"
     ]
    }
   ],
   "source": [
    "import os\n",
    "\n",
    "# motors\n",
    "f=os.popen(\" cat ~/.ipython//profile_collection/startup/10-motors.py | grep EpicsMotor | awk '{print $1}' \")\n",
    "motors = [i.split()[0] for i in f.readlines()]\n",
    "for i in motors:\n",
    "    try:\n",
    "        print([i,globals()[i].report])\n",
    "    except:\n",
    "        pass\n",
    "    \n",
    "# optics\n",
    "f=os.popen(\" cat ~/ipython/profile_collection/startup/15-optics.py | grep EpicsMotor | awk '{print $1}' \")\n",
    "motors = [i.split()[0] for i in f.readlines()]\n",
    "for i in motors:\n",
    "    try:\n",
    "        print([i,globals()[i].report])\n",
    "    except:\n",
    "        pass\n",
    "    "
   ]
  },
  {
   "cell_type": "code",
   "execution_count": 19,
   "metadata": {},
   "outputs": [
    {
     "data": {
      "text/plain": [
       "MoveStatus(done=True, pos=phi, elapsed=0.0, success=True, settle_time=0.0)"
      ]
     },
     "execution_count": 19,
     "metadata": {},
     "output_type": "execute_result"
    }
   ],
   "source": [
    "phi.move(0)"
   ]
  },
  {
   "cell_type": "code",
   "execution_count": null,
   "metadata": {},
   "outputs": [],
   "source": []
  },
  {
   "cell_type": "code",
   "execution_count": 20,
   "metadata": {},
   "outputs": [],
   "source": [
    "from pprint import pprint\n",
    "\n",
    "# scan a motor from 1 to 5, taking 5 equally-spaced readings of 'det'\n",
    "# RE(bp.scan([dexela], phi, 1, 5, 5))\n",
    "\n",
    "# scan a motor from 1 to 5 *relative to its current position*\n",
    "# RE(bp.rel_scan([dexela], phi, -2, 2, 5))\n",
    "\n",
    "# scan a motor through a list of user-specified positions\n",
    "# RE(bp.list_scan([dexela], phi, [1, 1, 2, 3, 0]))"
   ]
  },
  {
   "cell_type": "code",
   "execution_count": 21,
   "metadata": {},
   "outputs": [
    {
     "data": {
      "text/plain": [
       "{'path': <matplotlib.lines.Line2D at 0x7fdf84179c88>,\n",
       " 'events': <matplotlib.collections.PatchCollection at 0x7fdf84179cc0>}"
      ]
     },
     "execution_count": 21,
     "metadata": {},
     "output_type": "execute_result"
    },
    {
     "data": {
      "image/png": "[encoded data removed]",
      "text/plain": [
       "<Figure size 432x288 with 1 Axes>"
      ]
     },
     "metadata": {
      "needs_background": "light"
     },
     "output_type": "display_data"
    }
   ],
   "source": [
    "%matplotlib inline\n",
    "\n",
    "from bluesky.simulators import plot_raster_path\n",
    "\n",
    "\n",
    "xy_plan = bp.spiral_square([dexela], xfine, yfine, x_center=0.25, y_center=-4.0,\n",
    "                     x_range=1.0, y_range=1.0, x_num=11, y_num=11)\n",
    "plot_raster_path(xy_plan, 'xfine', 'yfine', probe_size=.01)"
   ]
  },
  {
   "cell_type": "code",
   "execution_count": 42,
   "metadata": {},
   "outputs": [
    {
     "name": "stdout",
     "output_type": "stream",
     "text": [
      "INFO: No calibration file found in config_base.\n",
      "Scan will still keep going on....\n",
      "INFO: Current filter status\n",
      "INFO: flt1 : In\n",
      "INFO: flt2 : Out\n",
      "INFO: flt3 : Out\n",
      "INFO: flt4 : Out\n",
      "+-----------+------------+------------+---------------------+------------+---------------------+\n",
      "|   seq_num |       time |      xfine | xfine_user_setpoint |      yfine | yfine_user_setpoint |\n",
      "+-----------+------------+------------+---------------------+------------+---------------------+\n",
      "|         1 | 00:20:03.4 |     0.2500 |              0.2500 |    -4.0000 |             -4.0000 |\n",
      "|         2 | 00:20:04.9 |     0.3500 |              0.3500 |    -4.0000 |             -4.0000 |\n",
      "|         3 | 00:20:07.0 |     0.3500 |              0.3500 |    -4.1000 |             -4.1000 |\n",
      "|         4 | 00:20:08.4 |     0.2500 |              0.2500 |    -4.1000 |             -4.1000 |\n",
      "|         5 | 00:20:10.1 |     0.1500 |              0.1500 |    -4.1000 |             -4.1000 |\n",
      "|         6 | 00:20:12.2 |     0.1500 |              0.1500 |    -4.0000 |             -4.0000 |\n",
      "|         7 | 00:20:14.3 |     0.1500 |              0.1500 |    -3.9000 |             -3.9000 |\n",
      "|         8 | 00:20:15.9 |     0.2500 |              0.2500 |    -3.9000 |             -3.9000 |\n",
      "|         9 | 00:20:17.4 |     0.3500 |              0.3500 |    -3.9000 |             -3.9000 |\n",
      "|        10 | 00:20:18.9 |     0.4500 |              0.4500 |    -3.9000 |             -3.9000 |\n",
      "|        11 | 00:20:21.0 |     0.4500 |              0.4500 |    -4.0000 |             -4.0000 |\n",
      "|        12 | 00:20:23.2 |     0.4500 |              0.4500 |    -4.1000 |             -4.1000 |\n",
      "|        13 | 00:20:25.4 |     0.4500 |              0.4500 |    -4.2000 |             -4.2000 |\n",
      "|        14 | 00:20:26.9 |     0.3500 |              0.3500 |    -4.2000 |             -4.2000 |\n",
      "|        15 | 00:20:28.4 |     0.2500 |              0.2500 |    -4.2000 |             -4.2000 |\n",
      "|        16 | 00:20:29.9 |     0.1500 |              0.1500 |    -4.2000 |             -4.2000 |\n",
      "|        17 | 00:20:31.5 |     0.0500 |              0.0500 |    -4.2000 |             -4.2000 |\n",
      "|        18 | 00:20:33.6 |     0.0500 |              0.0500 |    -4.1000 |             -4.1000 |\n",
      "|        19 | 00:20:35.6 |     0.0500 |              0.0500 |    -4.0000 |             -4.0000 |\n",
      "|        20 | 00:20:37.6 |     0.0500 |              0.0500 |    -3.9000 |             -3.9000 |\n",
      "|        21 | 00:20:39.7 |     0.0500 |              0.0500 |    -3.8000 |             -3.8000 |\n",
      "|        22 | 00:20:41.2 |     0.1500 |              0.1500 |    -3.8000 |             -3.8000 |\n",
      "|        23 | 00:20:42.8 |     0.2500 |              0.2500 |    -3.8000 |             -3.8000 |\n",
      "|        24 | 00:20:44.3 |     0.3500 |              0.3500 |    -3.8000 |             -3.8000 |\n",
      "|        25 | 00:20:45.8 |     0.4500 |              0.4500 |    -3.8000 |             -3.8000 |\n",
      "|        26 | 00:20:47.3 |     0.5500 |              0.5500 |    -3.8000 |             -3.8000 |\n",
      "|        27 | 00:20:49.3 |     0.5500 |              0.5500 |    -3.9000 |             -3.9000 |\n",
      "|        28 | 00:20:51.5 |     0.5500 |              0.5500 |    -4.0000 |             -4.0000 |\n",
      "|        29 | 00:20:53.7 |     0.5500 |              0.5500 |    -4.1000 |             -4.1000 |\n",
      "|        30 | 00:20:55.8 |     0.5500 |              0.5500 |    -4.2000 |             -4.2000 |\n",
      "|        31 | 00:20:57.8 |     0.5500 |              0.5500 |    -4.3000 |             -4.3000 |\n",
      "|        32 | 00:20:59.3 |     0.4500 |              0.4500 |    -4.3000 |             -4.3000 |\n",
      "|        33 | 00:21:00.9 |     0.3500 |              0.3500 |    -4.3000 |             -4.3000 |\n",
      "|        34 | 00:21:02.4 |     0.2500 |              0.2500 |    -4.3000 |             -4.3000 |\n",
      "|        35 | 00:21:03.8 |     0.1500 |              0.1500 |    -4.3000 |             -4.3000 |\n",
      "|        36 | 00:21:05.5 |     0.0500 |              0.0500 |    -4.3000 |             -4.3000 |\n",
      "|        37 | 00:21:06.9 |    -0.0500 |             -0.0500 |    -4.3000 |             -4.3000 |\n",
      "|        38 | 00:21:08.8 |    -0.0500 |             -0.0500 |    -4.2000 |             -4.2000 |\n",
      "|        39 | 00:21:11.0 |    -0.0500 |             -0.0500 |    -4.1000 |             -4.1000 |\n",
      "|        40 | 00:21:13.2 |    -0.0500 |             -0.0500 |    -4.0000 |             -4.0000 |\n",
      "|        41 | 00:21:15.3 |    -0.0500 |             -0.0500 |    -3.9000 |             -3.9000 |\n",
      "|        42 | 00:21:17.5 |    -0.0500 |             -0.0500 |    -3.8000 |             -3.8000 |\n",
      "|        43 | 00:21:19.6 |    -0.0500 |             -0.0500 |    -3.7000 |             -3.7000 |\n",
      "|        44 | 00:21:21.3 |     0.0500 |              0.0500 |    -3.7000 |             -3.7000 |\n",
      "|        45 | 00:21:22.7 |     0.1500 |              0.1500 |    -3.7000 |             -3.7000 |\n",
      "|        46 | 00:21:24.3 |     0.2500 |              0.2500 |    -3.7000 |             -3.7000 |\n",
      "|        47 | 00:21:25.7 |     0.3500 |              0.3500 |    -3.7000 |             -3.7000 |\n",
      "|        48 | 00:21:27.3 |     0.4500 |              0.4500 |    -3.7000 |             -3.7000 |\n",
      "|        49 | 00:21:28.9 |     0.5500 |              0.5500 |    -3.7000 |             -3.7000 |\n",
      "+-----------+------------+------------+---------------------+------------+---------------------+\n",
      "|   seq_num |       time |      xfine | xfine_user_setpoint |      yfine | yfine_user_setpoint |\n",
      "+-----------+------------+------------+---------------------+------------+---------------------+\n",
      "|        50 | 00:21:30.4 |     0.6500 |              0.6500 |    -3.7000 |             -3.7000 |\n",
      "|        51 | 00:21:32.5 |     0.6500 |              0.6500 |    -3.8000 |             -3.8000 |\n",
      "|        52 | 00:21:34.6 |     0.6500 |              0.6500 |    -3.9000 |             -3.9000 |\n",
      "|        53 | 00:21:36.7 |     0.6500 |              0.6500 |    -4.0000 |             -4.0000 |\n",
      "|        54 | 00:21:38.8 |     0.6500 |              0.6500 |    -4.1000 |             -4.1000 |\n",
      "|        55 | 00:21:41.0 |     0.6500 |              0.6500 |    -4.2000 |             -4.2000 |\n",
      "|        56 | 00:21:43.2 |     0.6500 |              0.6500 |    -4.3000 |             -4.3000 |\n",
      "|        57 | 00:21:45.3 |     0.6500 |              0.6500 |    -4.4000 |             -4.4000 |\n",
      "|        58 | 00:21:46.9 |     0.5500 |              0.5500 |    -4.4000 |             -4.4000 |\n",
      "|        59 | 00:21:48.5 |     0.4500 |              0.4500 |    -4.4000 |             -4.4000 |\n",
      "|        60 | 00:21:50.1 |     0.3500 |              0.3500 |    -4.4000 |             -4.4000 |\n",
      "|        61 | 00:21:51.7 |     0.2500 |              0.2500 |    -4.4000 |             -4.4000 |\n",
      "|        62 | 00:21:53.3 |     0.1500 |              0.1500 |    -4.4000 |             -4.4000 |\n",
      "|        63 | 00:21:54.7 |     0.0500 |              0.0500 |    -4.4000 |             -4.4000 |\n",
      "|        64 | 00:21:56.3 |    -0.0500 |             -0.0500 |    -4.4000 |             -4.4000 |\n",
      "|        65 | 00:21:57.9 |    -0.1500 |             -0.1500 |    -4.4000 |             -4.4000 |\n",
      "|        66 | 00:21:59.9 |    -0.1500 |             -0.1500 |    -4.3000 |             -4.3000 |\n",
      "|        67 | 00:22:02.2 |    -0.1500 |             -0.1500 |    -4.2000 |             -4.2000 |\n",
      "|        68 | 00:22:04.3 |    -0.1500 |             -0.1500 |    -4.1000 |             -4.1000 |\n",
      "|        69 | 00:22:06.6 |    -0.1500 |             -0.1500 |    -4.0000 |             -4.0000 |\n",
      "|        70 | 00:22:08.7 |    -0.1500 |             -0.1500 |    -3.9000 |             -3.9000 |\n",
      "|        71 | 00:22:10.8 |    -0.1500 |             -0.1500 |    -3.8000 |             -3.8000 |\n",
      "|        72 | 00:22:13.0 |    -0.1500 |             -0.1500 |    -3.7000 |             -3.7000 |\n",
      "|        73 | 00:22:15.2 |    -0.1500 |             -0.1500 |    -3.6000 |             -3.6000 |\n",
      "|        74 | 00:22:16.7 |    -0.0500 |             -0.0500 |    -3.6000 |             -3.6000 |\n",
      "|        75 | 00:22:18.3 |     0.0500 |              0.0500 |    -3.6000 |             -3.6000 |\n",
      "|        76 | 00:22:19.8 |     0.1500 |              0.1500 |    -3.6000 |             -3.6000 |\n",
      "|        77 | 00:22:21.3 |     0.2500 |              0.2500 |    -3.6000 |             -3.6000 |\n",
      "|        78 | 00:22:22.7 |     0.3500 |              0.3500 |    -3.6000 |             -3.6000 |\n",
      "|        79 | 00:22:24.3 |     0.4500 |              0.4500 |    -3.6000 |             -3.6000 |\n",
      "|        80 | 00:22:25.9 |     0.5500 |              0.5500 |    -3.6000 |             -3.6000 |\n",
      "|        81 | 00:22:27.5 |     0.6500 |              0.6500 |    -3.6000 |             -3.6000 |\n",
      "|        82 | 00:22:29.1 |     0.7500 |              0.7500 |    -3.6000 |             -3.6000 |\n",
      "|        83 | 00:22:31.2 |     0.7500 |              0.7500 |    -3.7000 |             -3.7000 |\n",
      "|        84 | 00:22:33.3 |     0.7500 |              0.7500 |    -3.8000 |             -3.8000 |\n",
      "|        85 | 00:22:35.5 |     0.7500 |              0.7500 |    -3.9000 |             -3.9000 |\n",
      "|        86 | 00:22:37.7 |     0.7500 |              0.7500 |    -4.0000 |             -4.0000 |\n",
      "|        87 | 00:22:39.8 |     0.7500 |              0.7500 |    -4.1000 |             -4.1000 |\n",
      "|        88 | 00:22:41.8 |     0.7500 |              0.7500 |    -4.2000 |             -4.2000 |\n",
      "|        89 | 00:22:44.0 |     0.7500 |              0.7500 |    -4.3000 |             -4.3000 |\n",
      "|        90 | 00:22:46.2 |     0.7500 |              0.7500 |    -4.4000 |             -4.4000 |\n",
      "|        91 | 00:22:48.4 |     0.7500 |              0.7500 |    -4.5000 |             -4.5000 |\n",
      "|        92 | 00:22:49.9 |     0.6500 |              0.6500 |    -4.5000 |             -4.5000 |\n",
      "|        93 | 00:22:51.5 |     0.5500 |              0.5500 |    -4.5000 |             -4.5000 |\n",
      "|        94 | 00:22:53.1 |     0.4500 |              0.4500 |    -4.5000 |             -4.5000 |\n",
      "|        95 | 00:22:54.7 |     0.3500 |              0.3500 |    -4.5000 |             -4.5000 |\n",
      "|        96 | 00:22:56.3 |     0.2500 |              0.2500 |    -4.5000 |             -4.5000 |\n",
      "|        97 | 00:22:57.7 |     0.1500 |              0.1500 |    -4.5000 |             -4.5000 |\n",
      "|        98 | 00:22:59.3 |     0.0500 |              0.0500 |    -4.5000 |             -4.5000 |\n",
      "|        99 | 00:23:00.7 |    -0.0500 |             -0.0500 |    -4.5000 |             -4.5000 |\n",
      "+-----------+------------+------------+---------------------+------------+---------------------+\n",
      "|   seq_num |       time |      xfine | xfine_user_setpoint |      yfine | yfine_user_setpoint |\n",
      "+-----------+------------+------------+---------------------+------------+---------------------+\n",
      "|       100 | 00:23:02.3 |    -0.1500 |             -0.1500 |    -4.5000 |             -4.5000 |\n",
      "|       101 | 00:23:03.7 |    -0.2500 |             -0.2500 |    -4.5000 |             -4.5000 |\n",
      "|       102 | 00:23:05.8 |    -0.2500 |             -0.2500 |    -4.4000 |             -4.4000 |\n",
      "|       103 | 00:23:08.0 |    -0.2500 |             -0.2500 |    -4.3000 |             -4.3000 |\n",
      "|       104 | 00:23:10.1 |    -0.2500 |             -0.2500 |    -4.2000 |             -4.2000 |\n",
      "|       105 | 00:23:12.1 |    -0.2500 |             -0.2500 |    -4.1000 |             -4.1000 |\n",
      "|       106 | 00:23:14.4 |    -0.2500 |             -0.2500 |    -4.0000 |             -4.0000 |\n",
      "|       107 | 00:23:16.5 |    -0.2500 |             -0.2500 |    -3.9000 |             -3.9000 |\n",
      "|       108 | 00:23:18.5 |    -0.2500 |             -0.2500 |    -3.8000 |             -3.8000 |\n",
      "|       109 | 00:23:20.7 |    -0.2500 |             -0.2500 |    -3.7000 |             -3.7000 |\n",
      "|       110 | 00:23:22.8 |    -0.2500 |             -0.2500 |    -3.6000 |             -3.6000 |\n",
      "|       111 | 00:23:25.0 |    -0.2500 |             -0.2500 |    -3.5000 |             -3.5000 |\n",
      "|       112 | 00:23:26.5 |    -0.1500 |             -0.1500 |    -3.5000 |             -3.5000 |\n",
      "|       113 | 00:23:28.1 |    -0.0500 |             -0.0500 |    -3.5000 |             -3.5000 |\n",
      "|       114 | 00:23:29.6 |     0.0500 |              0.0500 |    -3.5000 |             -3.5000 |\n",
      "|       115 | 00:23:31.1 |     0.1500 |              0.1500 |    -3.5000 |             -3.5000 |\n",
      "|       116 | 00:23:32.7 |     0.2500 |              0.2500 |    -3.5000 |             -3.5000 |\n",
      "|       117 | 00:23:34.3 |     0.3500 |              0.3500 |    -3.5000 |             -3.5000 |\n",
      "|       118 | 00:23:35.7 |     0.4500 |              0.4500 |    -3.5000 |             -3.5000 |\n",
      "|       119 | 00:23:37.3 |     0.5500 |              0.5500 |    -3.5000 |             -3.5000 |\n",
      "|       120 | 00:23:38.7 |     0.6500 |              0.6500 |    -3.5000 |             -3.5000 |\n",
      "|       121 | 00:23:40.1 |     0.7500 |              0.7500 |    -3.5000 |             -3.5000 |\n",
      "+-----------+------------+------------+---------------------+------------+---------------------+\n",
      "generator spiral_square ['eb45c9e0'] (scan num: 7)\n"
     ]
    },
    {
     "data": {
      "text/plain": [
       "('eb45c9e0-64d9-4a13-81b8-bcba911154ea',)"
      ]
     },
     "execution_count": 42,
     "metadata": {},
     "output_type": "execute_result"
    }
   ],
   "source": [
    "xy_plan = bp.spiral_square([dexela], xfine, yfine, x_center=0.25, y_center=-4.0,\n",
    "                     x_range=1.0, y_range=1.0, x_num=11, y_num=11)\n",
    "\n",
    "xrun(1, xy_plan, LiveTable([xfine,yfine]))"
   ]
  },
  {
   "cell_type": "code",
   "execution_count": 44,
   "metadata": {},
   "outputs": [
    {
     "data": {
      "text/plain": [
       "MoveStatus(done=True, pos=yfine, elapsed=5.2, success=True, settle_time=0.0)"
      ]
     },
     "execution_count": 44,
     "metadata": {},
     "output_type": "execute_result"
    }
   ],
   "source": [
    "xfine.move(0.25)\n",
    "yfine.move(-4)"
   ]
  },
  {
   "cell_type": "code",
   "execution_count": 22,
   "metadata": {},
   "outputs": [
    {
     "name": "stdout",
     "output_type": "stream",
     "text": [
      "INFO: requested exposure time = 5 - > computed exposure time= 0.1\n",
      "INFO: No calibration file found in config_base.\n",
      "Scan will still keep going on....\n",
      "INFO: Current filter status\n",
      "INFO: flt1 : In\n",
      "INFO: flt2 : Out\n",
      "INFO: flt3 : Out\n",
      "INFO: flt4 : Out\n",
      "+-----------+------------+\n",
      "|   seq_num |       time |\n",
      "+-----------+------------+\n",
      "|         1 | 08:45:28.2 |\n",
      "+-----------+------------+\n",
      "generator count ['772b62f3'] (scan num: 3)\n"
     ]
    },
    {
     "data": {
      "text/plain": [
       "('772b62f3-d184-41b0-8a25-d435556e0005',)"
      ]
     },
     "execution_count": 22,
     "metadata": {},
     "output_type": "execute_result"
    }
   ],
   "source": [
    "xrun(0,0)"
   ]
  },
  {
   "cell_type": "code",
   "execution_count": 24,
   "metadata": {},
   "outputs": [
    {
     "name": "stdout",
     "output_type": "stream",
     "text": [
      "INFO: requested exposure time = 0.1 - > computed exposure time= 0.1\n",
      "INFO: No calibration file found in config_base.\n",
      "Scan will still keep going on....\n",
      "INFO: Current filter status\n",
      "INFO: flt1 : In\n",
      "INFO: flt2 : Out\n",
      "INFO: flt3 : Out\n",
      "INFO: flt4 : Out\n",
      "+-----------+------------+\n",
      "|   seq_num |       time |\n",
      "+-----------+------------+\n",
      "|         1 | 08:47:29.1 |\n",
      "+-----------+------------+\n",
      "generator count ['e7525cd3'] (scan num: 5)\n"
     ]
    },
    {
     "data": {
      "text/plain": [
       "('e7525cd3-fb56-4072-ba35-6aad29b1438c',)"
      ]
     },
     "execution_count": 24,
     "metadata": {},
     "output_type": "execute_result"
    }
   ],
   "source": [
    "xrun(1,1)"
   ]
  },
  {
   "cell_type": "code",
   "execution_count": null,
   "metadata": {},
   "outputs": [],
   "source": []
  }
 ],
 "metadata": {
  "kernelspec": {
   "display_name": "Python 3",
   "language": "python",
   "name": "python3"
  },
  "language_info": {
   "codemirror_mode": {
    "name": "ipython",
    "version": 3
   },
   "file_extension": ".py",
   "mimetype": "text/x-python",
   "name": "python",
   "nbconvert_exporter": "python",
   "pygments_lexer": "ipython3",
   "version": "3.7.3"
  }
 },
 "nbformat": 4,
 "nbformat_minor": 4
}
